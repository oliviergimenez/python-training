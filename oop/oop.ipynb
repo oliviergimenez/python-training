{
 "cells": [
  {
   "cell_type": "markdown",
   "metadata": {},
   "source": [
    "# Object oriented programming\n",
    "\n",
    "*Object-oriented Programming (OOP) is a programming paradigm which provides a means of structuring programs so that properties and behaviors are bundled into individual objects.* ([realpython](https://realpython.com/python3-object-oriented-programming/#what-is-object-oriented-programming-oop))\n",
    "\n",
    "*Object-oriented programming is a programming paradigm based on the concept of objects, which may contain data, in the form of fields (often known as **attributes**), and code, in the form of procedures (often known as **methods**).* ([wikipedia](https://en.wikipedia.org/wiki/Object-oriented_programming))\n",
    "\n",
    "It is a very powerfull feature of Python, which is very well adapted to individual-based models for instance.\n",
    "\n",
    "Imagine that you want to make a Python program that manages the displacement of vehicles. A vechicle will be at first defined by the following data (*attributes*):\n",
    "\n",
    "- Position (x, y)\n",
    "- Velocity (vx, vy)\n",
    "- Name of the vehicle.\n",
    "\n",
    "## Defining a class"
   ]
  },
  {
   "cell_type": "markdown",
   "metadata": {},
   "source": [
    "A class is defined by using the `class` keyword:\n",
    "    \n",
    "```\n",
    "class Vehicle(object):\n",
    "```\n",
    "\n",
    "The class must contain a constructor (`__init__` function), which wil define how a new object will be created. For instance, regarding our vehicle, the class will look like this:"
   ]
  },
  {
   "cell_type": "code",
   "execution_count": 1,
   "metadata": {},
   "outputs": [],
   "source": [
    "# creation d'une classe vehicule\n",
    "class Vehicle(object):\n",
    "\n",
    "    def __init__(self, name, vx, vy, x, y):\n",
    "        self.name = name  #  sets the name of the vehicle\n",
    "        self.vx = vx  # sets the speed\n",
    "        self.vy = vy\n",
    "        self.x = x  # sets the position\n",
    "        self.y = y"
   ]
  },
  {
   "cell_type": "markdown",
   "metadata": {},
   "source": [
    "In the above, the `self` key word refers to the object himself.\n",
    "\n",
    "With the given constructor, a new vehicle can be created as follows:"
   ]
  },
  {
   "cell_type": "code",
   "execution_count": 2,
   "metadata": {},
   "outputs": [
    {
     "name": "stdout",
     "output_type": "stream",
     "text": [
      "<__main__.Vehicle object at 0x10c2e6bd0>\n",
      "10\n"
     ]
    }
   ],
   "source": [
    "x = 10\n",
    "y = 20\n",
    "vx = 0\n",
    "vy = 0\n",
    "name = 'corsa'\n",
    "veh1 = Vehicle(name, vx, vy, x, y)\n",
    "print(veh1)\n",
    "print(veh1.x)"
   ]
  },
  {
   "cell_type": "markdown",
   "metadata": {},
   "source": [
    "There is the possibility to modify the constructor to allow for several constructors [pythonconquerstheuniverse](https://pythonconquerstheuniverse.wordpress.com/2010/03/17/multiple-constructors-in-a-python-class/)"
   ]
  },
  {
   "cell_type": "code",
   "execution_count": 3,
   "metadata": {},
   "outputs": [],
   "source": [
    "# creation d'une classe vehicule\n",
    "class Vehicle(object):\n",
    "    \n",
    "    # Depending on the length of the number of\n",
    "    # arguments, call one constructor or the other\n",
    "    def __init__(self, *args):\n",
    "        if(len(args) == 5):\n",
    "            self.__init_from_int__(*args)\n",
    "        elif(len(args) == 3):\n",
    "            self.__init_from_list__(*args)\n",
    "        elif(len(args) == 1):\n",
    "            self.__init_from_name__(*args)\n",
    "        \n",
    "    # Constructor when all the attributes are provided as arguments\n",
    "    def __init_from_int__(self, *args):\n",
    "        self.name, self.vx, self.vy, self.x, self.y = args\n",
    "      \n",
    "    # Constructor when position and speed are provided as lists\n",
    "    def __init_from_list__(self, *args):\n",
    "        name = args[0]\n",
    "        list_speed = args[0]\n",
    "        list_pos = args[1]\n",
    "        self.__init_from_int__(name, list_speed[0], list_speed[1], list_pos[0], list_pos[1])\n",
    "    \n",
    "    # Constructor when position and speed are not provided as lists\n",
    "    def __init_from_name__(self, name):\n",
    "        self.__init_from_int__(name, 0, 0, 0, 0)\n",
    "\n",
    "veh1 = Vehicle('corsa', 1, 2, 3, 4)  # uses __init_from_int__\n",
    "veh2 = Vehicle('corsa', [1, 2], [3, 4])  # uses __init_from_list__\n",
    "veh3 = Vehicle('corsa')  # uses __init_from_name__"
   ]
  },
  {
   "cell_type": "markdown",
   "metadata": {},
   "source": [
    "Note that in that case, the two additional constructors call the `self.__init_from_int__`, in order to prevent too much copy/paste.\n",
    "\n",
    "## Adding methods\n",
    "\n",
    "Methods can be added to the objects. For instance, a method to change the speed and change the position can be added."
   ]
  },
  {
   "cell_type": "code",
   "execution_count": 4,
   "metadata": {},
   "outputs": [
    {
     "name": "stdout",
     "output_type": "stream",
     "text": [
      "(0, 0) (0, 0)\n",
      "(0, 0) (1, 2)\n",
      "(10, 20) (1, 2)\n"
     ]
    }
   ],
   "source": [
    "# creation d'une classe vehicule\n",
    "class Vehicle(object):\n",
    "    \n",
    "    # Depending on the length of the number of\n",
    "    # arguments, call one constructor or the other\n",
    "    def __init__(self, name):\n",
    "        self.vx = self.vy = self.x = self.y = 0\n",
    "        self.name = name\n",
    "     \n",
    "    # deplacement  du vehicule en fonction de dt (en seconde)\n",
    "    def move(self, dt):\n",
    "        self.x = self.x + self.vx * dt\n",
    "        self.y = self.y + self.vy * dt\n",
    "\n",
    "    # incrementation de la vitesse du vehicule\n",
    "    def change_speed(self, dvx, dvy):\n",
    "        self.vx += dvx\n",
    "        self.vy += dvy\n",
    "    \n",
    "    def speed(self):\n",
    "        return self.vx, self.vy\n",
    "    \n",
    "    def pos(self):\n",
    "        return self.x, self.y\n",
    "        \n",
    "veh1 = Vehicle('corsa')\n",
    "print(veh1.pos(), veh1.speed())\n",
    "veh1.change_speed(1, 2)\n",
    "print(veh1.pos(), veh1.speed())\n",
    "veh1.move(10)\n",
    "print(veh1.pos(), veh1.speed())"
   ]
  },
  {
   "cell_type": "markdown",
   "metadata": {},
   "source": [
    "Since custom objects are mutables, they can be stored in a list and changed by doing a for loop."
   ]
  },
  {
   "cell_type": "code",
   "execution_count": 5,
   "metadata": {},
   "outputs": [
    {
     "name": "stdout",
     "output_type": "stream",
     "text": [
      "(10, 20)\n",
      "(-10, -20)\n"
     ]
    }
   ],
   "source": [
    "veh1 = Vehicle('corsa')\n",
    "veh1.change_speed(1, 2)\n",
    "veh2 = Vehicle('nissan')\n",
    "veh2.change_speed(-1, -2)\n",
    "\n",
    "vehicles = [veh1, veh2]\n",
    "for v in vehicles:\n",
    "    v.move(10)\n",
    "    \n",
    "print(veh1.pos())\n",
    "print(veh2.pos())"
   ]
  },
  {
   "cell_type": "markdown",
   "metadata": {},
   "source": [
    "## Usefull methods\n",
    "\n",
    "### `__str__` method\n",
    "\n",
    "The `__str__` method is used to change the output of `print` functions. It must returns a string object"
   ]
  },
  {
   "cell_type": "code",
   "execution_count": 6,
   "metadata": {},
   "outputs": [
    {
     "name": "stdout",
     "output_type": "stream",
     "text": [
      "<__main__.Vehicle object at 0x10c313b50>\n"
     ]
    }
   ],
   "source": [
    "# creation d'une classe vehicule\n",
    "class Vehicle(object):\n",
    "    \n",
    "    # Depending on the length of the number of\n",
    "    # arguments, call one constructor or the other\n",
    "    def __init__(self, name):\n",
    "        self.vx = self.vy = self.x = self.y = 0\n",
    "        self.name = name\n",
    "\n",
    "veh1 = Vehicle('corsa')\n",
    "print(veh1)"
   ]
  },
  {
   "cell_type": "code",
   "execution_count": 7,
   "metadata": {},
   "outputs": [
    {
     "name": "stdout",
     "output_type": "stream",
     "text": [
      "vehicle=corsa, pos=[0.00, 0.00], speed=[0.00, 0.00]\n"
     ]
    }
   ],
   "source": [
    "# creation d'une classe vehicule\n",
    "class Vehicle(object):\n",
    "    \n",
    "    # Depending on the length of the number of\n",
    "    # arguments, call one constructor or the other\n",
    "    def __init__(self, name):\n",
    "        self.vx = self.vy = self.x = self.y = 0\n",
    "        self.name = name\n",
    "\n",
    "    def __str__(self):\n",
    "        output = 'vehicle=%s, pos=[%.2f, %.2f], speed=[%.2f, %.2f]' %(self.name, self.x, self.y, self.vx, self.vy)\n",
    "        return output\n",
    "\n",
    "veh1 = Vehicle('corsa')\n",
    "print(veh1)"
   ]
  },
  {
   "cell_type": "markdown",
   "metadata": {},
   "source": [
    "### `__call__` method\n",
    "\n",
    "The `__call__` method can be used to make the obect callable."
   ]
  },
  {
   "cell_type": "code",
   "execution_count": 8,
   "metadata": {},
   "outputs": [
    {
     "name": "stdout",
     "output_type": "stream",
     "text": [
      "vehicle=corsa, pos=[20.00, 20.00], speed=[2.00, 2.00]\n",
      "vehicle=corsa, pos=[60.00, 60.00], speed=[2.00, 2.00]\n"
     ]
    }
   ],
   "source": [
    "# creation d'une classe vehicule\n",
    "class Vehicle(object):\n",
    "    \n",
    "    # Depending on the length of the number of\n",
    "    # arguments, call one constructor or the other\n",
    "    def __init__(self, name):\n",
    "        self.vx = self.vy = 2\n",
    "        self.x = self.y = 0\n",
    "        self.name = name\n",
    "        \n",
    "    def __str__(self):\n",
    "        output = 'vehicle=%s, pos=[%.2f, %.2f], speed=[%.2f, %.2f]' %(self.name, self.x, self.y, self.vx, self.vy)\n",
    "        return output\n",
    "\n",
    "    def __call__(self, dt):\n",
    "        self.x = self.x + self.vx * dt\n",
    "        self.y = self.y + self.vy * dt\n",
    "\n",
    "veh1 = Vehicle('corsa')\n",
    "veh1(10)\n",
    "print(veh1)\n",
    "veh1(20)\n",
    "print(veh1)"
   ]
  },
  {
   "cell_type": "markdown",
   "metadata": {},
   "source": [
    "### The `__getitem__` method\n",
    "\n",
    "The `__getitem__` is used to make the objectsubscriptable."
   ]
  },
  {
   "cell_type": "code",
   "execution_count": 9,
   "metadata": {},
   "outputs": [
    {
     "name": "stdout",
     "output_type": "stream",
     "text": [
      "<class 'str'> name\n",
      "corsa\n",
      "<class 'str'> pos\n",
      "[0, 0]\n",
      "<class 'str'> speed\n",
      "[2, 2]\n",
      "<class 'slice'> slice(None, None, None)\n",
      "corsa\n",
      "<class 'tuple'> (slice(None, None, None), slice(None, None, None))\n",
      "corsa\n",
      "<class 'tuple'> ('arg1', 'arg2')\n",
      "corsa\n"
     ]
    }
   ],
   "source": [
    "# creation d'une classe vehicule\n",
    "class Vehicle(object):\n",
    "    \n",
    "    # Depending on the length of the number of\n",
    "    # arguments, call one constructor or the other\n",
    "    def __init__(self, name):\n",
    "        self.vx = self.vy = 2\n",
    "        self.x = self.y = 0\n",
    "        self.name = name\n",
    "        \n",
    "    def __str__(self):\n",
    "        output = 'vehicle=%s, pos=[%.2f, %.2f], speed=[%.2f, %.2f]' %(self.name, self.x, self.y, self.vx, self.vy)\n",
    "        return output\n",
    "\n",
    "    def __getitem__(self, key):\n",
    "        print(type(key), key)\n",
    "        output = {'name': self.name, 'pos': [self.x, self.y], 'speed':[self.vx, self.vy]}\n",
    "        if isinstance(key, str):\n",
    "            return(output[key.lower()])\n",
    "        elif isinstance(key, (tuple, slice)):\n",
    "            return(output['name'])\n",
    "            \n",
    "veh1 = Vehicle('corsa')\n",
    "print(veh1['name'])\n",
    "print(veh1['pos'])\n",
    "print(veh1['speed'])\n",
    "print(veh1[:])  # key provided as a slice\n",
    "print(veh1[:, :])  # key provided as a tuple of slice\n",
    "print(veh1['arg1', 'arg2'])  # key provided as a tuple of strs"
   ]
  },
  {
   "cell_type": "markdown",
   "metadata": {},
   "source": [
    "## Encapsulation: getter and setters\n",
    "\n",
    "In the above examples, there is a big issue. Indeed, the user has full control on the object's data. Which can cause some issues."
   ]
  },
  {
   "cell_type": "code",
   "execution_count": 10,
   "metadata": {},
   "outputs": [
    {
     "name": "stdout",
     "output_type": "stream",
     "text": [
      "vehicle=corsa, pos=[20.00, 20.00], speed=[2.00, 2.00]\n",
      "vehicle=corsa, pos=[220.00, 40.00], speed=[20.00, 2.00]\n"
     ]
    }
   ],
   "source": [
    "# creation d'une classe vehicule\n",
    "class Vehicle(object):\n",
    "    \n",
    "    # Depending on the length of the number of\n",
    "    # arguments, call one constructor or the other\n",
    "    def __init__(self, name):\n",
    "        self.vx = self.vy = 2\n",
    "        self.x = self.y = 0\n",
    "        self.name = name\n",
    "        \n",
    "    def __call__(self, dt):\n",
    "        self.x = self.x + self.vx * dt\n",
    "        self.y = self.y + self.vy * dt\n",
    "        \n",
    "    def __str__(self):\n",
    "        output = 'vehicle=%s, pos=[%.2f, %.2f], speed=[%.2f, %.2f]' %(self.name, self.x, self.y, self.vx, self.vy)\n",
    "        return output\n",
    "\n",
    "veh1 = Vehicle('corsa')\n",
    "veh1(10)\n",
    "print(veh1)\n",
    "veh1.vx = 20  # user can change the value of vx!\n",
    "veh1(10)\n",
    "print(veh1)"
   ]
  },
  {
   "cell_type": "markdown",
   "metadata": {},
   "source": [
    "If the user makes a mistake in the definition of vx, the code will crash."
   ]
  },
  {
   "cell_type": "code",
   "execution_count": 11,
   "metadata": {},
   "outputs": [],
   "source": [
    "veh1 = Vehicle('corsa')\n",
    "veh1.vx = '20'  # user can change the value of vx!\n",
    "# veh1(10) # this crashes"
   ]
  },
  {
   "cell_type": "markdown",
   "metadata": {},
   "source": [
    "Therefore, it is important to keep the control on the data. This is what is called **encapsulation**. \n",
    "\n",
    "It is achieved by defining setter and getter functions, using the built-in `@property` and `@setter` decorators. \n",
    "Let's look at how it works for the `vx` attribute."
   ]
  },
  {
   "cell_type": "code",
   "execution_count": 12,
   "metadata": {},
   "outputs": [
    {
     "name": "stdout",
     "output_type": "stream",
     "text": [
      "Constructor\n",
      "setter 0\n",
      "setter 10\n",
      "getter\n",
      "vehicle=corsa, pos=[0.00, 0.00], speed=[10.00, 0.00]\n",
      "setter 20\n",
      "VX must be numeric. Unchanged\n",
      "getter\n",
      "vehicle=corsa, pos=[0.00, 0.00], speed=[10.00, 0.00]\n"
     ]
    }
   ],
   "source": [
    "class Vehicle(object):\n",
    "\n",
    "    def __init__(self, name):\n",
    "        print('Constructor')\n",
    "        self.vx = self.vy = self.x = self.y = 0\n",
    "        self.name = name\n",
    "                \n",
    "    def __str__(self):\n",
    "        output = 'vehicle=%s, pos=[%.2f, %.2f], speed=[%.2f, %.2f]' %(self.name, self.x, self.y, self.vx, self.vy)\n",
    "        return output\n",
    "\n",
    "    @property\n",
    "    def vx(self):\n",
    "        print('getter')\n",
    "        return self.__vx\n",
    "\n",
    "    @vx.setter\n",
    "    def vx(self, value):\n",
    "        print('setter', value)\n",
    "        if(isinstance(value, (int, float))):\n",
    "            self.__vx = float(value)\n",
    "        else:\n",
    "            print('VX must be numeric. Unchanged')\n",
    "\n",
    "veh1 = Vehicle('corsa')  # calls setter (value = 0)\n",
    "veh1.vx = 10  # calls setter (provided as int -> converted into float)\n",
    "print(veh1)  # __str__ calls getter\n",
    "veh1.vx = '20'  # calls setter (provided as str, print error message)\n",
    "print(veh1)  # calls getters"
   ]
  },
  {
   "cell_type": "markdown",
   "metadata": {},
   "source": [
    "There are several things to note:\n",
    "- The `vx` attribute has been replace by a private attribute `__vx`\n",
    "- **The getter and setter must have the same name**, which corresponds to the name of the variable as we want to access it.\n",
    "- Getters are preceded by the `@property` decorator\n",
    "- Setters are preceded by the `@X.setter` decorator, with `X` the property to set.\n",
    "\n",
    "Setters are called any time there is assigmnent, while getters are called elsewhere."
   ]
  },
  {
   "cell_type": "markdown",
   "metadata": {},
   "source": [
    "## Inheritance\n",
    "\n",
    "Imagine you want to separates vehicles into three categories: boats, cars, planes. These vehicles have common attributes (horizontal position for instance), but have some differences listed below.\n",
    "\n",
    "| Vehicle         |  Over land | Over sea | 3D               |\n",
    "|-----------------|------------|----------|------------------|\n",
    "| Boats           | False      | True     | False\n",
    "| Cars            | True       | False    | False\n",
    "| Planes          | True       | True     | True\n",
    "\n",
    "In order to easily defines these three vehicles, it is possible to use inheritance. A mother class can be defined to manage common attributes, while child class will contain specific attributes and methods.\n",
    "\n",
    "The `super` keyword refers to the parent class. It can be used to call some mother's class method, in order\n",
    "to avoid copy and pastes."
   ]
  },
  {
   "cell_type": "code",
   "execution_count": 13,
   "metadata": {},
   "outputs": [],
   "source": [
    "class Vehicle(object):\n",
    "    \n",
    "    def __init__(self, x, y):\n",
    "        self.x = x\n",
    "        self.y = y\n",
    "        self.vx = self.vy = 1\n",
    "    \n",
    "    def __call__(self, dt):\n",
    "        self.x += self.vx * dt\n",
    "        self.y += self.vy * dt\n",
    "        \n",
    "    def __str__(self):\n",
    "        return str([self.x, self.y])"
   ]
  },
  {
   "cell_type": "markdown",
   "metadata": {},
   "source": [
    "To create a `Boat` and a `Car` class that inherits from `Vehicle`:"
   ]
  },
  {
   "cell_type": "code",
   "execution_count": null,
   "metadata": {},
   "outputs": [],
   "source": [
    "class Boat(Vehicle):\n",
    "    \n",
    "    def __init(self, x, y):\n",
    "        super().__init__(x, y) # calls mother class constructor\n",
    "    \n",
    "    def inWater():\n",
    "        return False\n",
    "    \n",
    "    def inSea():\n",
    "        return True\n",
    "    \n",
    "class Car(Vehicle):\n",
    "    \n",
    "    def __init(self, x, y):\n",
    "        super().__init__(x, y)\n",
    "    \n",
    "    def inWater():\n",
    "        return True\n",
    "    \n",
    "    def inSea():\n",
    "        return False"
   ]
  },
  {
   "cell_type": "markdown",
   "metadata": {},
   "source": [
    "Note that `super()` always refer to the mother class.\n",
    "\n",
    "Since `Boat` and `Car` are vehicles that move in 2D, there is no need to add any attributes or to overwrite methods. However, since planes can move in 3D, a height and vertical speed attribute need to be added. Furthermore, the `__call__` and `__str__` methods need to be changed as well."
   ]
  },
  {
   "cell_type": "code",
   "execution_count": 19,
   "metadata": {},
   "outputs": [],
   "source": [
    "class Plane(Vehicle):\n",
    "    \n",
    "    def __init__(self, x, y, z):\n",
    "        super().__init__(x, y)  # calls mother class constructor\n",
    "        self.z = z  # add two attributes\n",
    "        self.vz = 10\n",
    "        \n",
    "    def inWater():\n",
    "        return True\n",
    "    \n",
    "    def inSea():\n",
    "        return True\n",
    "      \n",
    "    def __call__(self, dt):  # overwrites __call__method\n",
    "        super().__call__(dt)   # call mother class __call__ function\n",
    "        self.z += self.vz * dt  # add also the update of z\n",
    "        \n",
    "    def __str__(self):\n",
    "        return str([self.x, self.y, self.z])  # overwrites __str__ method."
   ]
  },
  {
   "cell_type": "code",
   "execution_count": 20,
   "metadata": {},
   "outputs": [
    {
     "name": "stdout",
     "output_type": "stream",
     "text": [
      "True\n",
      "True\n",
      "False\n"
     ]
    }
   ],
   "source": [
    "veh1 = Boat(1, 2)\n",
    "veh2 = Car(3, 4)\n",
    "veh3 = Plane(4, 5, 10)\n",
    "\n",
    "print(isinstance(veh1, Boat))\n",
    "print(isinstance(veh1, Vehicle))\n",
    "print(isinstance(veh1, Car))"
   ]
  },
  {
   "cell_type": "code",
   "execution_count": 18,
   "metadata": {},
   "outputs": [
    {
     "name": "stdout",
     "output_type": "stream",
     "text": [
      "[11, 12]\n",
      "[13, 14]\n",
      "[14, 15, 110]\n"
     ]
    }
   ],
   "source": [
    "for v in [veh1, veh2, veh3]:\n",
    "    v(10)\n",
    "    print(v)"
   ]
  }
 ],
 "metadata": {
  "jupytext": {
   "formats": "ipynb,py"
  },
  "kernelspec": {
   "display_name": "Python 3",
   "language": "python",
   "name": "python3"
  },
  "language_info": {
   "codemirror_mode": {
    "name": "ipython",
    "version": 3
   },
   "file_extension": ".py",
   "mimetype": "text/x-python",
   "name": "python",
   "nbconvert_exporter": "python",
   "pygments_lexer": "ipython3",
   "version": "3.7.4"
  }
 },
 "nbformat": 4,
 "nbformat_minor": 2
}
