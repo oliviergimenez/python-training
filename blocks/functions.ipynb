{
 "cells": [
  {
   "cell_type": "markdown",
   "metadata": {},
   "source": [
    "# Functions\n",
    "\n",
    "## Definitions\n",
    "\n",
    "The creation of functions is achieved with the ```def``` keyword:"
   ]
  },
  {
   "cell_type": "code",
   "execution_count": null,
   "metadata": {},
   "outputs": [],
   "source": [
    "import numpy as np\n",
    "\n",
    "def function(arg1, arg2, arg3=0, arg4=-1):\n",
    "    # arg1, arg2: compulsory arguments\n",
    "    # arg3, arg4: additional arguments with default values\n",
    "    # !!! Additional arguments must be after compulsory ones\n",
    "    output = arg1 + arg2 + arg3 * (arg1 + arg2) \\\n",
    "            + arg4*(arg1 - arg2)\n",
    "    \n",
    "    return output, output**2  # returs a 2 elemt. tuple"
   ]
  },
  {
   "cell_type": "code",
   "execution_count": null,
   "metadata": {},
   "outputs": [],
   "source": [
    "x1, x2 = function(1, 2) \n",
    "print(x1, x2)\n",
    "\n",
    "x1, x2 = function(1, 2, arg4=1) \n",
    "print(x1, x2)\n",
    "\n",
    "x1, x2 = function(1, 2, arg3=1)\n",
    "print(x1, x2)\n",
    "\n",
    "x1, x2 = function(1, 2, arg3=1, arg4=1)\n",
    "print(x1, x2)\n",
    "\n",
    "x = function(1, 2, arg3=1, arg4=1)  # output returned as a tuple\n",
    "print(x)\n",
    "x1 = x[0]\n",
    "x2 = x[1]\n",
    "print(x1, x2)"
   ]
  },
  {
   "cell_type": "markdown",
   "metadata": {},
   "source": [
    "## Arguments as reference or values\n",
    "\n",
    "Function arguments that are *immutable* (```int```, \n",
    "    ```float```, etc.) are provided as *values*, i.e. a local copy is made in\n",
    "    the function. The argument value is not changed after function return.\n",
    "\n",
    "Function arguments that are *mutable* (```list```, \n",
    "    ```array```, ```dict```, etc.) are provided as *references*, i.e. memory addresses. They can \n",
    "    therefore be modified from within the function. The argument value may change after function call.\n",
    "    "
   ]
  },
  {
   "cell_type": "code",
   "execution_count": null,
   "metadata": {},
   "outputs": [],
   "source": [
    "# demonstration of arguments as references/values\n",
    "def update(x, y):\n",
    "    print('id before ', id(x))\n",
    "    x += y\n",
    "    #x = x + y # this creates a new variable x, leaving x value unchanged\n",
    "    print('id after.', id(x))"
   ]
  },
  {
   "cell_type": "code",
   "execution_count": null,
   "metadata": {},
   "outputs": [],
   "source": [
    "##### applied on immutable (int)\n",
    "x = 1\n",
    "update(x, 10)\n",
    "print(x)"
   ]
  },
  {
   "cell_type": "code",
   "execution_count": null,
   "metadata": {},
   "outputs": [],
   "source": [
    "##### applied on immutable (string)\n",
    "x = 'string arg'\n",
    "update(x, ' final string')\n",
    "print(x)"
   ]
  },
  {
   "cell_type": "code",
   "execution_count": null,
   "metadata": {},
   "outputs": [],
   "source": [
    "##### applied on mutable (list)\n",
    "x = [1]\n",
    "update(x, [2])\n",
    "print(x)"
   ]
  },
  {
   "cell_type": "code",
   "execution_count": null,
   "metadata": {},
   "outputs": [],
   "source": [
    "##### applied on mutable (array)\n",
    "x = np.array([1, 2, 3])\n",
    "update(x, 2)   # x has been updated in the function\n",
    "print(x)"
   ]
  },
  {
   "cell_type": "markdown",
   "metadata": {},
   "source": [
    "## Scope of variables\n",
    "\n",
    "All the variables declared within the function (arguments included)\n",
    "are *local* variables. When leaving the function, the variables are removed."
   ]
  },
  {
   "cell_type": "code",
   "execution_count": null,
   "metadata": {},
   "outputs": [],
   "source": [
    "# demonstration of local variable\n",
    "x = 10\n",
    "\n",
    "def function(x):\n",
    "\n",
    "    x = x + 5\n",
    "    z = x + 10\n",
    "    print('func. ', 'x=', x, 'z=', z)\n",
    "\n",
    "function(x)\n",
    "\n",
    "print(x)\n",
    "# print(z)  # causes an error: z undefined"
   ]
  },
  {
   "cell_type": "markdown",
   "metadata": {},
   "source": [
    "*Global* variables can be accessed from inside a function:"
   ]
  },
  {
   "cell_type": "code",
   "execution_count": null,
   "metadata": {},
   "outputs": [],
   "source": [
    "# by default, global variable\n",
    "y = 20\n",
    "\n",
    "def function2():\n",
    "    print(y)\n",
    "\n",
    "function2()"
   ]
  },
  {
   "cell_type": "markdown",
   "metadata": {},
   "source": [
    "<div class=\"alert alert-danger\">\n",
    "  <strong>Warning!</strong> \n",
    "    By default, a variable <strong>that is assigned</strong> within a function is considered as <i>local</i>. It must be declared as <i>global</i> in the function.\n",
    "</div>\n"
   ]
  },
  {
   "cell_type": "code",
   "execution_count": null,
   "metadata": {},
   "outputs": [],
   "source": [
    "z = 30\n",
    "x = 10\n",
    "\n",
    "def function3():\n",
    "\n",
    "    # to assign new values to the global variables,\n",
    "    # they need to be declared as 'global'\n",
    "    global z\n",
    "    # global x\n",
    "\n",
    "    z += 10     \n",
    "    # x += 5 # will crash because x not declared global\n",
    "\n",
    "function3()\n",
    "print(z, x)  # z has been updated"
   ]
  },
  {
   "cell_type": "markdown",
   "metadata": {},
   "source": [
    "### Functions: the ```*args``` argument\n",
    "\n",
    "When the number of arguments is variable, you can use the ```*args``` argument, can contains as many arguments as you want."
   ]
  },
  {
   "cell_type": "code",
   "execution_count": null,
   "metadata": {},
   "outputs": [],
   "source": [
    "def function2(x, y, *args):\n",
    "    # if args are provided\n",
    "    # print all the arguments\n",
    "    # return a tuple\n",
    "    print('x = ', x)\n",
    "    print('y = ', y)\n",
    "    if len(args) > 0:\n",
    "        for v in args:\n",
    "            print('other ', v)\n",
    "\n",
    "function2(3, 'toto')\n",
    "function2(3, 'toto', 5.4)\n",
    "function2(3, 'toto', 5.4, 'z', [0, 3, 4])"
   ]
  },
  {
   "cell_type": "markdown",
   "metadata": {},
   "source": [
    "### The ```**kwargs``` argument\n",
    "\n",
    "Imagine you want to define a function that normalizes a time-series, i.e. removes the mean and divides by the standard-deviation:\n",
    "\n",
    "$Y = \\frac{X - \\overline{X}}{\\sigma_X}$\n",
    "\n",
    "You want that your function should be able to consider all arguments as the ```numpy.mean``` function. You can either copy/paste\n",
    "the full list of the ```numpy.mean``` arguments. However:\n",
    "\n",
    "- This is time-consuming\n",
    "- This is error prone  (misspelling, updates)\n",
    "\n",
    "A better way is to use the ```**kwargs``` argument, which is a dictionnary of arguments."
   ]
  },
  {
   "cell_type": "code",
   "execution_count": 1,
   "metadata": {},
   "outputs": [],
   "source": [
    "import numpy as np\n",
    "def stand(x, **kwargs):\n",
    "    m = np.mean(x, **kwargs)\n",
    "    s = np.std(x)\n",
    "    print(m.shape)\n",
    "    return (x - m) / s"
   ]
  },
  {
   "cell_type": "code",
   "execution_count": 2,
   "metadata": {},
   "outputs": [
    {
     "name": "stdout",
     "output_type": "stream",
     "text": [
      "()\n",
      "(100,)\n",
      "(1, 100)\n"
     ]
    }
   ],
   "source": [
    "x = np.random.normal(loc=0.0, scale=1.0, size=(1000, 100))\n",
    "out = stand(x)\n",
    "out = stand(x, axis=0)  # mean computed over the dim 0\n",
    "out = stand(x, keepdims=True, axis=0)  # keeping the dimensions\n",
    "# out = stand(x, ddof=1)  # crashes since ddof is no numpy.mean argument"
   ]
  },
  {
   "cell_type": "markdown",
   "metadata": {},
   "source": [
    "It is also possible to define several `**kwargs` arguments by using dictionaries. \n",
    "For instance, if the user also wants that the `stand` function may also use all the arguments of the `numpy.std` function:"
   ]
  },
  {
   "cell_type": "code",
   "execution_count": 3,
   "metadata": {},
   "outputs": [
    {
     "name": "stdout",
     "output_type": "stream",
     "text": [
      "mean ()\n",
      "std ()\n",
      "---\n",
      "mean (1, 100)\n",
      "std ()\n",
      "---\n",
      "mean ()\n",
      "std (1, 100)\n",
      "---\n",
      "mean (1, 100)\n",
      "std (1, 100)\n",
      "---\n"
     ]
    }
   ],
   "source": [
    "def stand(x, argsmean={}, argsstd={}):\n",
    "    m = np.mean(x, **argsmean)\n",
    "    s = np.std(x, **argsstd)\n",
    "    print('mean', m.shape)\n",
    "    print('std' , s.shape)\n",
    "    print('---')\n",
    "    return (x - m) / s\n",
    "\n",
    "# extra arguments for the plot function\n",
    "args_mean = {'keepdims':True, 'axis':0}\n",
    "# extra arguments for the savefig function\n",
    "args_std = {'keepdims':True, 'axis':0, 'ddof':1}\n",
    "\n",
    "out = stand(x)\n",
    "out = stand(x, argsmean=args_mean)  # mean computed over 1st dimensions\n",
    "out = stand(x, argsstd=args_std)  # std computed over 1st dimension, removes one dof\n",
    "out = stand(x, argsmean=args_mean, argsstd=args_std)\n",
    "# out = stand(x, argsmean=args_std, argsstd=args_mean) # crashes since ddof is no argument for std"
   ]
  },
  {
   "cell_type": "markdown",
   "metadata": {},
   "source": [
    "## Lambda functions\n",
    "\n",
    "Lambda function, also called anonymous functions, are not defined by using \n",
    "the ```def``` statement but the ```lambda``` one.\n",
    "\n",
    "More on lambda functions can be found in [w3schools](https://www.w3schools.com/python/python_lambda.asp)"
   ]
  },
  {
   "cell_type": "code",
   "execution_count": null,
   "metadata": {},
   "outputs": [],
   "source": [
    "y = lambda x: x**2 \n",
    "print(y(2))\n",
    "print(y(3))"
   ]
  },
  {
   "cell_type": "code",
   "execution_count": null,
   "metadata": {},
   "outputs": [],
   "source": [
    "z = lambda x, y : x * y\n",
    "print(z(3, 5))\n",
    "print(z(5, 7))"
   ]
  },
  {
   "cell_type": "markdown",
   "metadata": {},
   "source": [
    "An good example of use of lambda functions is provided in [stackoverflow](https://stackoverflow.com/questions/890128/why-are-python-lambdas-useful). In order to generate easily create a multiplicator function, one can use a combination of standard and lambda function."
   ]
  },
  {
   "cell_type": "code",
   "execution_count": 5,
   "metadata": {},
   "outputs": [],
   "source": [
    "# Takes as argument the value by which variables should be multiplied\n",
    "def mulgenerator(n):\n",
    "    return  (lambda x : x * n)"
   ]
  },
  {
   "cell_type": "markdown",
   "metadata": {},
   "source": [
    "Here, the  `mulgenerator`  function returns a lambda  function, i.e. an object that is callable."
   ]
  },
  {
   "cell_type": "code",
   "execution_count": 9,
   "metadata": {},
   "outputs": [
    {
     "name": "stdout",
     "output_type": "stream",
     "text": [
      "<class 'function'>\n",
      "20\n",
      "40\n"
     ]
    }
   ],
   "source": [
    "# doubler \n",
    "doubler = mulgenerator(2)\n",
    "print(type(doubler))\n",
    "print(doubler(10))\n",
    "\n",
    "# quadrupler\n",
    "quadrupler = mulgenerator(4)\n",
    "print(quadrupler(10)) "
   ]
  }
 ],
 "metadata": {
  "jupytext": {
   "formats": "ipynb,py"
  },
  "kernelspec": {
   "display_name": "Python 3",
   "language": "python",
   "name": "python3"
  },
  "language_info": {
   "codemirror_mode": {
    "name": "ipython",
    "version": 3
   },
   "file_extension": ".py",
   "mimetype": "text/x-python",
   "name": "python",
   "nbconvert_exporter": "python",
   "pygments_lexer": "ipython3",
   "version": "3.7.4"
  }
 },
 "nbformat": 4,
 "nbformat_minor": 2
}
