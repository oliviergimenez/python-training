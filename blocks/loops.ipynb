{
 "cells": [
  {
   "cell_type": "markdown",
   "metadata": {},
   "source": [
    "## Loops\n",
    "\n",
    "### Definition\n",
    "\n",
    "Loops should be used when a set of actions should be repeated a certain number of times (for instance on each element of a list).\n",
    "\n",
    "There is mainly two ways to perform a loop: by using a ```for``` statement, or by using a ```while``` statement.\n",
    "\n",
    "### Loops in Python\n",
    "\n",
    "In Python, the general structure of a loop is:\n",
    "    \n",
    "    for v in iterable:\n",
    "        action\n",
    "\n",
    "    while(condition):\n",
    "        action\n",
    "    \n",
    "<div class=\"alert alert-info\">\n",
    "    You can always replace a <i>for</i> loop by a <i>while</i> loop, and conversely. \n",
    "</div>\n"
   ]
  },
  {
   "cell_type": "code",
   "execution_count": 30,
   "metadata": {},
   "outputs": [
    {
     "name": "stdout",
     "output_type": "stream",
     "text": [
      "index  0 value 1\n",
      "index  1 value 2\n",
      "index  2 value 3\n",
      "index  3 value 4\n",
      "index  4 value 5\n",
      "index  5 value 6\n",
      "index  6 value 7\n",
      "index  7 value 8\n",
      "index  8 value 9\n",
      "index  9 value 10\n"
     ]
    }
   ],
   "source": [
    "# creates a list\n",
    "x = range(1, 11)\n",
    "\n",
    "# loop using the list index\n",
    "for p in range(0, len(x)):\n",
    "    print('index ', p, 'value', x[p])  # p: index of the element"
   ]
  },
  {
   "cell_type": "code",
   "execution_count": 9,
   "metadata": {},
   "outputs": [
    {
     "name": "stdout",
     "output_type": "stream",
     "text": [
      "1\n",
      "2\n",
      "3\n",
      "4\n",
      "5\n",
      "6\n",
      "7\n",
      "8\n",
      "9\n",
      "10\n"
     ]
    }
   ],
   "source": [
    "# loop using the list elements (works for iterables, such as list, tuples)\n",
    "for v in x:\n",
    "    print(v)  # temp: element itself"
   ]
  },
  {
   "cell_type": "code",
   "execution_count": 8,
   "metadata": {},
   "outputs": [
    {
     "name": "stdout",
     "output_type": "stream",
     "text": [
      "10\n",
      "9\n",
      "8\n",
      "7\n",
      "6\n",
      "5\n",
      "4\n",
      "3\n",
      "2\n",
      "1\n"
     ]
    }
   ],
   "source": [
    "# loop using the list elements (works for iterables, such as list, tuples)\n",
    "for v in x[::-1]:\n",
    "    print(v)  # temp: element itself"
   ]
  },
  {
   "cell_type": "code",
   "execution_count": 31,
   "metadata": {},
   "outputs": [
    {
     "name": "stdout",
     "output_type": "stream",
     "text": [
      "9 11\n",
      "8 12\n",
      "7 13\n",
      "6 14\n",
      "5 15\n",
      "4 16\n",
      "3 17\n",
      "2 18\n",
      "1 19\n"
     ]
    }
   ],
   "source": [
    "# pairwise loops\n",
    "# to be used when looping using indexes\n",
    "x = range(1, 10)[::-1]\n",
    "y = range(11, 20)\n",
    "for i, j in zip(x, y):\n",
    "    print(i, j)\n",
    "# x[0], y[0]\n",
    "# x[1], y[1]\n",
    "# x[2], y[2] ..."
   ]
  },
  {
   "cell_type": "code",
   "execution_count": 32,
   "metadata": {},
   "outputs": [
    {
     "name": "stdout",
     "output_type": "stream",
     "text": [
      "2 11\n",
      "1 12\n"
     ]
    }
   ],
   "source": [
    "# pairwise loops: stops when reaches one list end.\n",
    "x = range(1, 3)[::-1]\n",
    "y = range(11, 20)\n",
    "for i, j in zip(x, y):\n",
    "    print(i, j)"
   ]
  },
  {
   "cell_type": "code",
   "execution_count": 37,
   "metadata": {},
   "outputs": [
    {
     "name": "stdout",
     "output_type": "stream",
     "text": [
      "index  0 value 1\n",
      "index  1 value 2\n",
      "index  2 value 3\n",
      "index  3 value 4\n",
      "index  4 value 5\n",
      "index  5 value 6\n",
      "index  6 value 7\n",
      "index  7 value 8\n",
      "index  8 value 9\n",
      "index  8 value 9\n",
      "index  7 value 8\n",
      "index  6 value 7\n",
      "index  5 value 6\n",
      "index  4 value 5\n",
      "index  3 value 4\n",
      "index  2 value 3\n",
      "index  1 value 2\n",
      "index  0 value 1\n"
     ]
    }
   ],
   "source": [
    "# any for loop can be converted into while loop, and conversely\n",
    "x = range(1, 10)\n",
    "\n",
    "p = 0\n",
    "while p<len(x):\n",
    "    print('index ', p, 'value', x[p])  # p: index of the element\n",
    "    p += 1 # iteration of counter\n",
    "        \n",
    "p = len(x) - 1\n",
    "while (p>= 0):\n",
    "    print('index ', p, 'value', x[p])  # p: index of the element\n",
    "    p -= 1 # iteration of counter "
   ]
  },
  {
   "cell_type": "code",
   "execution_count": 38,
   "metadata": {},
   "outputs": [
    {
     "name": "stdout",
     "output_type": "stream",
     "text": [
      "i 0 j 0 k 0\n",
      "i 0 j 1 k 0\n",
      "i 0 j 2 k 0\n",
      "i 1 j 0 k 0\n",
      "i 1 j 1 k 0\n",
      "i 1 j 2 k 0\n"
     ]
    }
   ],
   "source": [
    "for i in range(0, 2):\n",
    "    for j in range(0, 3):\n",
    "        for k in range(0, 1):\n",
    "            print('i', i, 'j', j, 'k', k)"
   ]
  },
  {
   "cell_type": "code",
   "execution_count": 40,
   "metadata": {},
   "outputs": [
    {
     "name": "stdout",
     "output_type": "stream",
     "text": [
      "[(1, 3), (1, 4), (2, 3), (2, 1), (2, 4), (3, 1), (3, 4)]\n",
      "[(1, 3), (1, 4), (2, 3), (2, 1), (2, 4), (3, 1), (3, 4)]\n"
     ]
    }
   ],
   "source": [
    "# Loop comprehension: loops writen in one single line\n",
    "combs1 = [(x, y) for x in [1,2,3] for y in [3,1,4] if x != y] \n",
    "print(combs1)\n",
    "\n",
    "# equivalent to (but much shorter and more elegant)\n",
    "combs2 = [] \n",
    "for x in [1, 2, 3]:\n",
    "    for y in [3, 1, 4]: \n",
    "        if x != y:\n",
    "            combs2.append((x, y))\n",
    "print(combs2)"
   ]
  },
  {
   "cell_type": "code",
   "execution_count": 42,
   "metadata": {},
   "outputs": [
    {
     "name": "stdout",
     "output_type": "stream",
     "text": [
      "[1, 2, 4, 7, 8, 9]\n"
     ]
    }
   ],
   "source": [
    "x = range(1, 10) \n",
    "y = [3, 5, 6] \n",
    "\n",
    "# loop over the elements of x and add them to the output list\n",
    "# if they are not in y\n",
    "# 3, 5, 6 are not\n",
    "z = [temp for temp in x if temp not in y] \n",
    "print(z)"
   ]
  },
  {
   "cell_type": "code",
   "execution_count": 43,
   "metadata": {},
   "outputs": [
    {
     "name": "stdout",
     "output_type": "stream",
     "text": [
      "=====  0\n",
      "=====  1\n",
      "=====  2\n",
      "=====  3\n",
      "=====  4\n"
     ]
    }
   ],
   "source": [
    "# Break: leaves the loop when condition is met\n",
    "for p in range(0, 10):\n",
    "   \n",
    "    print('===== ', p)\n",
    "    \n",
    "    if(p > 3):\n",
    "        break"
   ]
  },
  {
   "cell_type": "code",
   "execution_count": 44,
   "metadata": {},
   "outputs": [
    {
     "name": "stdout",
     "output_type": "stream",
     "text": [
      "++++++  0\n",
      "below\n",
      "++++++  1\n",
      "below\n",
      "++++++  2\n",
      "below\n",
      "++++++  3\n",
      "below\n",
      "++++++  4\n",
      "++++++  5\n",
      "++++++  6\n",
      "++++++  7\n",
      "++++++  8\n",
      "++++++  9\n"
     ]
    }
   ],
   "source": [
    "# Continue: skip the end of the block when condition is met\n",
    "for p in range(0, 10):\n",
    "\n",
    "    print('++++++ ', p)\n",
    "\n",
    "    if(p > 3):\n",
    "        continue\n",
    "\n",
    "    print('below')"
   ]
  }
 ],
 "metadata": {
  "jupytext": {
   "formats": "ipynb,py"
  },
  "kernelspec": {
   "display_name": "Python 3",
   "language": "python",
   "name": "python3"
  },
  "language_info": {
   "codemirror_mode": {
    "name": "ipython",
    "version": 3
   },
   "file_extension": ".py",
   "mimetype": "text/x-python",
   "name": "python",
   "nbconvert_exporter": "python",
   "pygments_lexer": "ipython3",
   "version": "3.7.4"
  }
 },
 "nbformat": 4,
 "nbformat_minor": 2
}
