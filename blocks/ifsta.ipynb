{
 "cells": [
  {
   "cell_type": "markdown",
   "metadata": {},
   "source": [
    "## Code blocks\n",
    "\n",
    "In Python, **conditional statements, functions and loops** are defined within **code blocks**, which have in common:\n",
    "\n",
    "- The block definition must end with ```:```\n",
    "- The code inside the block must be indented to the right\n",
    "- When leaving the block, the code  must be indented to the left\n",
    "- Variables defined within a block are visible only within the block\n",
    "\n",
    "<div class=\"alert alert-danger\">\n",
    "    <b>Common errors</b>\n",
    "    <br>\n",
    "    Indent issues occur often, be carefull\n",
    "</div>\n",
    "\n",
    "\n",
    "<div class=\"alert alert-warning\">\n",
    "        <b>Text Editor issues</b>\n",
    "     <br>\n",
    "    With some text editors, the <i>tab</i> keys would make your code incompatible with other systems.\n",
    "Use 4 spaces instead.\n",
    "</div>\n",
    "\n",
    "## Conditional statements\n",
    "\n",
    "### Definition\n",
    "\n",
    "Conditional statements allow to perform predifined actions depending on certain conditions. \n",
    "    \n",
    "###  Defining conditional statements\n",
    "\n",
    "The general structure of a conditional statement is:\n",
    "\n",
    "```\n",
    "if(cond1):\n",
    "    action1\n",
    "elif(cond2):\n",
    "    action2\n",
    "else:\n",
    "    action3\n",
    "```"
   ]
  },
  {
   "cell_type": "code",
   "execution_count": 1,
   "metadata": {},
   "outputs": [
    {
     "name": "stdout",
     "output_type": "stream",
     "text": [
      "Equality\n"
     ]
    }
   ],
   "source": [
    "x = 10\n",
    "y = 10\n",
    "z = 10\n",
    "\n",
    "# Care with the indent\n",
    "if ((x==y) & (x==z)):\n",
    "    print('Equality')\n",
    "elif ((x <= y) & (y <= z)):\n",
    "    print('Increasing order')\n",
    "elif((x >= y) & (y >= z)):\n",
    "    print('Decreasing order')\n",
    "else:\n",
    "    print('No order')"
   ]
  },
  {
   "cell_type": "code",
   "execution_count": 2,
   "metadata": {
    "scrolled": true
   },
   "outputs": [
    {
     "name": "stdout",
     "output_type": "stream",
     "text": [
      "a in list\n",
      "z not in list\n"
     ]
    }
   ],
   "source": [
    "x = ['a', 'b', 'c']\n",
    "\n",
    "## Use of brackets in not always necessary, but\n",
    "# I would advise to use them\n",
    "if 'a' in x:\n",
    "    print('a in list')\n",
    "else:\n",
    "    print('a not in list')\n",
    "    \n",
    "if ('z' in x):\n",
    "    print('z in list')\n",
    "else:\n",
    "    print('z not in list')"
   ]
  },
  {
   "cell_type": "code",
   "execution_count": 3,
   "metadata": {},
   "outputs": [
    {
     "name": "stdout",
     "output_type": "stream",
     "text": [
      "a in list\n",
      "z not in list\n",
      "match\n"
     ]
    }
   ],
   "source": [
    "# possibility to write if statements in one line\n",
    "print('a in list') if 'a' in x else print('a not in list')\n",
    "print('z in list') if 'z' in x else print('z not in list')\n",
    "if('a' in x): print('match')"
   ]
  },
  {
   "cell_type": "code",
   "execution_count": 4,
   "metadata": {},
   "outputs": [],
   "source": [
    "# Warning if you define some variables inside a block and not in another block\n",
    "x = 10\n",
    "y = 20\n",
    "if(x == y): \n",
    "    z = 20\n",
    "else:\n",
    "    w = 10\n",
    "# print(z) # would crash if x != y\n",
    "# print(w) # would crash if x == y"
   ]
  },
  {
   "cell_type": "code",
   "execution_count": 5,
   "metadata": {
    "lines_to_next_cell": 2
   },
   "outputs": [
    {
     "name": "stdout",
     "output_type": "stream",
     "text": [
      "x and y are different\n"
     ]
    }
   ],
   "source": [
    "# Imbricated if statements\n",
    "# Again, take care of the indentation\n",
    "x = y = -10\n",
    "x = 10\n",
    "y = -12\n",
    "if(x == y):\n",
    "    # starts a new block with new conditional testing\n",
    "    if(x > 0):\n",
    "        print('x == y and positive')\n",
    "    else:\n",
    "        print('x == y and negative')\n",
    "else:\n",
    "    print('x and y are different')"
   ]
  }
 ],
 "metadata": {
  "jupytext": {
   "formats": "ipynb,py"
  },
  "kernelspec": {
   "display_name": "Python 3",
   "language": "python",
   "name": "python3"
  },
  "language_info": {
   "codemirror_mode": {
    "name": "ipython",
    "version": 3
   },
   "file_extension": ".py",
   "mimetype": "text/x-python",
   "name": "python",
   "nbconvert_exporter": "python",
   "pygments_lexer": "ipython3",
   "version": "3.7.4"
  }
 },
 "nbformat": 4,
 "nbformat_minor": 2
}
