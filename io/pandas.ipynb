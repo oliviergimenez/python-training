{
 "cells": [
  {
   "cell_type": "markdown",
   "metadata": {},
   "source": [
    "# CSV\n",
    "\n",
    "Reading, writting and analysing CSV files is achived by using the [pandas](https://pandas.pydata.org) library.\n",
    "\n",
    "## Opening a CSV\n",
    "\n",
    "The reading of CSV files is done by using the [read_csv](https://pandas.pydata.org/pandas-docs/stable/reference/api/pandas.read_csv.html) method."
   ]
  },
  {
   "cell_type": "code",
   "execution_count": 1,
   "metadata": {},
   "outputs": [],
   "source": [
    "import pandas as pd\n",
    "\n",
    "data = pd.read_csv('./data/nina34.csv', \n",
    "                   delim_whitespace=True,  # use spaces as delimiter\n",
    "                   skipfooter=2,   # skips the last 2 lines\n",
    "                   na_values=-99.99,  # sets missing values\n",
    "                   engine='python'  # sets engine to Python (default C does not support skip footer)\n",
    "                   )"
   ]
  },
  {
   "cell_type": "markdown",
   "metadata": {},
   "source": [
    "It returns a [pandas.DataFrame](https://pandas.pydata.org/pandas-docs/stable/reference/api/pandas.DataFrame.html) object."
   ]
  },
  {
   "cell_type": "markdown",
   "metadata": {},
   "source": [
    "To get the names of the line and columns:"
   ]
  },
  {
   "cell_type": "code",
   "execution_count": 2,
   "metadata": {},
   "outputs": [
    {
     "name": "stdout",
     "output_type": "stream",
     "text": [
      "Float64Index([1948.0, 1949.0, 1950.0, 1951.0, 1952.0, 1953.0, 1954.0, 1955.0,\n",
      "              1956.0, 1957.0, 1958.0, 1959.0, 1960.0, 1961.0, 1962.0, 1963.0,\n",
      "              1964.0, 1965.0, 1966.0, 1967.0, 1968.0, 1969.0, 1970.0, 1971.0,\n",
      "              1972.0, 1973.0, 1974.0, 1975.0, 1976.0, 1977.0, 1978.0, 1979.0,\n",
      "              1980.0, 1981.0, 1982.0, 1983.0, 1984.0, 1985.0, 1986.0, 1987.0,\n",
      "              1988.0, 1989.0, 1990.0, 1991.0, 1992.0, 1993.0, 1994.0, 1995.0,\n",
      "              1996.0, 1997.0, 1998.0, 1999.0, 2000.0, 2001.0, 2002.0, 2003.0,\n",
      "              2004.0, 2005.0, 2006.0, 2007.0, 2008.0, 2009.0, 2010.0, 2011.0,\n",
      "              2012.0, 2013.0, 2014.0, 2015.0, 2016.0, 2017.0, 2018.0, 2019.0,\n",
      "              2020.0,    nan],\n",
      "             dtype='float64')\n",
      "Index(['JAN', 'FEB', 'MAR', 'APR', 'MAY', 'JUN', 'JUL', 'AUG', 'SEP', 'OCT',\n",
      "       'NOV', 'DEC'],\n",
      "      dtype='object')\n"
     ]
    }
   ],
   "source": [
    "print(data.index) # recovers the labels of the columns\n",
    "print(data.columns)  # recovers the column indexes"
   ]
  },
  {
   "cell_type": "markdown",
   "metadata": {},
   "source": [
    "To display some lines at the beginning or at the end:"
   ]
  },
  {
   "cell_type": "code",
   "execution_count": 3,
   "metadata": {},
   "outputs": [
    {
     "name": "stdout",
     "output_type": "stream",
     "text": [
      "          JAN    FEB    MAR    APR    MAY    JUN    JUL    AUG    SEP    OCT  \\\n",
      "1948.0    NaN    NaN    NaN    NaN    NaN    NaN    NaN    NaN    NaN    NaN   \n",
      "1949.0    NaN    NaN    NaN    NaN    NaN    NaN    NaN    NaN    NaN    NaN   \n",
      "1950.0  24.55  25.06  25.87  26.28  26.18  26.46  26.29  25.88  25.74  25.69   \n",
      "\n",
      "          NOV    DEC  \n",
      "1948.0    NaN    NaN  \n",
      "1949.0    NaN    NaN  \n",
      "1950.0  25.47  25.29  \n"
     ]
    }
   ],
   "source": [
    "# beginning\n",
    "print(data.head(3))"
   ]
  },
  {
   "cell_type": "code",
   "execution_count": 4,
   "metadata": {},
   "outputs": [
    {
     "name": "stdout",
     "output_type": "stream",
     "text": [
      "          JAN    FEB    MAR    APR    MAY    JUN    JUL   AUG    SEP   OCT  \\\n",
      "2019.0  27.19  27.46  28.09  28.44  28.48  28.18  27.64  26.9  26.75  27.2   \n",
      "2020.0  27.18    NaN    NaN    NaN    NaN    NaN    NaN   NaN    NaN   NaN   \n",
      "NaN       NaN    NaN    NaN    NaN    NaN    NaN    NaN   NaN    NaN   NaN   \n",
      "\n",
      "          NOV    DEC  \n",
      "2019.0  27.22  27.12  \n",
      "2020.0    NaN    NaN  \n",
      "NaN       NaN    NaN  \n"
     ]
    }
   ],
   "source": [
    "# end\n",
    "print(data.tail(3))"
   ]
  },
  {
   "cell_type": "markdown",
   "metadata": {},
   "source": [
    "## Data extraction\n",
    "\n",
    "To extract data from the DataFrame, you can either \n",
    "\n",
    "- extract one column\n",
    "- use column/row names\n",
    "- use column/row indexes\n",
    "\n",
    "### Extracting one column\n",
    "\n",
    "To extract a whole column:"
   ]
  },
  {
   "cell_type": "code",
   "execution_count": 5,
   "metadata": {},
   "outputs": [
    {
     "name": "stdout",
     "output_type": "stream",
     "text": [
      "1948.0      NaN\n",
      "1949.0      NaN\n",
      "1950.0    24.55\n",
      "1951.0    25.24\n",
      "1952.0    26.67\n",
      "          ...  \n",
      "2017.0    26.12\n",
      "2018.0    25.57\n",
      "2019.0    27.19\n",
      "2020.0    27.18\n",
      "NaN         NaN\n",
      "Name: JAN, Length: 74, dtype: float64\n"
     ]
    }
   ],
   "source": [
    "col = data['JAN']\n",
    "print(col)"
   ]
  },
  {
   "cell_type": "markdown",
   "metadata": {},
   "source": [
    "### Using names\n",
    "\n",
    "Extracting data using column and row names is done by using the [loc] https://pandas.pydata.org/pandas-docs/stable/reference/api/pandas.DataFrame.loc.html#pandas-dataframe-loc method."
   ]
  },
  {
   "cell_type": "code",
   "execution_count": 6,
   "metadata": {},
   "outputs": [
    {
     "name": "stdout",
     "output_type": "stream",
     "text": [
      "1948.0      NaN\n",
      "1949.0      NaN\n",
      "1950.0    24.55\n",
      "1951.0    25.24\n",
      "1952.0    26.67\n",
      "          ...  \n",
      "2017.0    26.12\n",
      "2018.0    25.57\n",
      "2019.0    27.19\n",
      "2020.0    27.18\n",
      "NaN         NaN\n",
      "Name: JAN, Length: 74, dtype: float64\n"
     ]
    }
   ],
   "source": [
    "# Extracting one column\n",
    "dataex = data.loc[:, 'JAN']\n",
    "print(dataex)"
   ]
  },
  {
   "cell_type": "code",
   "execution_count": 7,
   "metadata": {},
   "outputs": [
    {
     "name": "stdout",
     "output_type": "stream",
     "text": [
      "JAN    24.55\n",
      "FEB    25.06\n",
      "MAR    25.87\n",
      "APR    26.28\n",
      "MAY    26.18\n",
      "JUN    26.46\n",
      "JUL    26.29\n",
      "AUG    25.88\n",
      "SEP    25.74\n",
      "OCT    25.69\n",
      "NOV    25.47\n",
      "DEC    25.29\n",
      "Name: 1950.0, dtype: float64\n"
     ]
    }
   ],
   "source": [
    "# Extracting one row\n",
    "dataex = data.loc[1950, :]\n",
    "print(dataex)"
   ]
  },
  {
   "cell_type": "code",
   "execution_count": 8,
   "metadata": {},
   "outputs": [
    {
     "name": "stdout",
     "output_type": "stream",
     "text": [
      "          JAN    FEB\n",
      "1950.0  24.55  25.06\n",
      "1951.0  25.24  25.71\n",
      "1952.0  26.67  26.74\n",
      "1953.0  26.74  27.00\n"
     ]
    }
   ],
   "source": [
    "# Combining both\n",
    "dataex = data.loc[slice(1950, 1953), ['JAN', 'FEB']]\n",
    "print(dataex)"
   ]
  },
  {
   "cell_type": "markdown",
   "metadata": {},
   "source": [
    "### Using indexes\n",
    "\n",
    "Extracting data using column and row names is done by using the [iloc] https://pandas.pydata.org/pandas-docs/stable/reference/api/pandas.DataFrame.iloc.html#pandas-dataframe-iloc method."
   ]
  },
  {
   "cell_type": "code",
   "execution_count": 9,
   "metadata": {},
   "outputs": [
    {
     "name": "stdout",
     "output_type": "stream",
     "text": [
      "1948.0      NaN\n",
      "1949.0      NaN\n",
      "1950.0    24.55\n",
      "1951.0    25.24\n",
      "1952.0    26.67\n",
      "          ...  \n",
      "2017.0    26.12\n",
      "2018.0    25.57\n",
      "2019.0    27.19\n",
      "2020.0    27.18\n",
      "NaN         NaN\n",
      "Name: JAN, Length: 74, dtype: float64\n"
     ]
    }
   ],
   "source": [
    "# Extracting one column\n",
    "dataex = data.iloc[:, 0]\n",
    "print(dataex)"
   ]
  },
  {
   "cell_type": "code",
   "execution_count": 10,
   "metadata": {},
   "outputs": [
    {
     "name": "stdout",
     "output_type": "stream",
     "text": [
      "JAN    24.55\n",
      "FEB    25.06\n",
      "MAR    25.87\n",
      "APR    26.28\n",
      "MAY    26.18\n",
      "JUN    26.46\n",
      "JUL    26.29\n",
      "AUG    25.88\n",
      "SEP    25.74\n",
      "OCT    25.69\n",
      "NOV    25.47\n",
      "DEC    25.29\n",
      "Name: 1950.0, dtype: float64\n"
     ]
    }
   ],
   "source": [
    "# Extracting one row\n",
    "dataex = data.iloc[2, :]\n",
    "print(dataex)"
   ]
  },
  {
   "cell_type": "code",
   "execution_count": 11,
   "metadata": {},
   "outputs": [
    {
     "name": "stdout",
     "output_type": "stream",
     "text": [
      "          JAN    FEB\n",
      "1950.0  24.55  25.06\n",
      "1951.0  25.24  25.71\n",
      "1952.0  26.67  26.74\n",
      "1953.0  26.74  27.00\n"
     ]
    }
   ],
   "source": [
    "# Combining both\n",
    "dataex = data.iloc[slice(2, 6), [0, 1]]\n",
    "print(dataex)"
   ]
  },
  {
   "cell_type": "markdown",
   "metadata": {},
   "source": [
    "## Extracting data arrays\n",
    "\n",
    "To extract the data arrays, use the `values` attributes."
   ]
  },
  {
   "cell_type": "code",
   "execution_count": 12,
   "metadata": {},
   "outputs": [
    {
     "name": "stdout",
     "output_type": "stream",
     "text": [
      "<class 'numpy.ndarray'>\n"
     ]
    }
   ],
   "source": [
    "# extract_data into arrays\n",
    "array = data.values  # extracts data, no more metadata (column names, etc)\n",
    "print(type(array))"
   ]
  },
  {
   "cell_type": "markdown",
   "metadata": {},
   "source": [
    "## Plotting\n",
    "\n",
    "`pandas` comes with some functions to draw quick plots."
   ]
  },
  {
   "cell_type": "code",
   "execution_count": 13,
   "metadata": {},
   "outputs": [
    {
     "data": {
      "text/plain": [
       "<Figure size 640x480 with 0 Axes>"
      ]
     },
     "metadata": {},
     "output_type": "display_data"
    },
    {
     "data": {
      "text/plain": [
       "<Figure size 640x480 with 1 Axes>"
      ]
     },
     "metadata": {},
     "output_type": "display_data"
    }
   ],
   "source": [
    "import matplotlib.pyplot as plt\n",
    "\n",
    "fig = plt.figure()\n",
    "data.loc[:, ['JAN', 'FEB']].plot()\n",
    "plt.show()"
   ]
  },
  {
   "cell_type": "code",
   "execution_count": 14,
   "metadata": {},
   "outputs": [
    {
     "data": {
      "image/png": "[encoded data removed]",
      "text/plain": [
       "<Figure size 432x288 with 1 Axes>"
      ]
     },
     "metadata": {
      "needs_background": "light"
     },
     "output_type": "display_data"
    }
   ],
   "source": [
    "fig = plt.figure()\n",
    "data.loc[1950, :].plot()\n",
    "plt.show()"
   ]
  },
  {
   "cell_type": "markdown",
   "metadata": {},
   "source": [
    "## Creating dataframes\n",
    "\n",
    "To create a data frame is done by using the [pandas.DataFrame](https://pandas.pydata.org/pandas-docs/stable/reference/api/pandas.DataFrame.html) method."
   ]
  },
  {
   "cell_type": "code",
   "execution_count": 15,
   "metadata": {},
   "outputs": [
    {
     "name": "stdout",
     "output_type": "stream",
     "text": [
      "                     xvalue  yvalue cat\n",
      "2012-01-01 00:00:00       0     0.0   A\n",
      "2012-01-01 01:00:00       1     0.5   A\n",
      "2012-01-01 02:00:00       2     1.0   C\n",
      "2012-01-01 03:00:00       3     1.5   A\n",
      "2012-01-01 04:00:00       4     2.0   B\n",
      "2012-01-01 05:00:00       5     2.5   B\n",
      "2012-01-01 06:00:00       6     3.0   B\n",
      "2012-01-01 07:00:00       7     3.5   C\n",
      "2012-01-01 08:00:00       8     4.0   D\n",
      "2012-01-01 09:00:00       9     4.5   A\n"
     ]
    }
   ],
   "source": [
    "import numpy as np\n",
    "\n",
    "# init a date object: 10 elements with a 1h interval\n",
    "date = pd.date_range('1/1/2012', periods=10, freq='H')\n",
    "\n",
    "x = np.arange(10)\n",
    "y = np.arange(10)*0.5\n",
    "cat = ['A']*2 + ['C'] + ['A'] + 3*['B'] + ['C'] + ['D'] + ['A']\n",
    "\n",
    "data = pd.DataFrame({'xvalue': x,\n",
    "                     'yvalue': y,\n",
    "                     'cat': cat},\n",
    "                     index=date)\n",
    "print(data)"
   ]
  },
  {
   "cell_type": "markdown",
   "metadata": {},
   "source": [
    "To convert a pandas data time series into a [caterogical](https://pandas.pydata.org/pandas-docs/stable/user_guide/categorical.html) data, use the `.astype(\"category\")` method."
   ]
  },
  {
   "cell_type": "code",
   "execution_count": 16,
   "metadata": {},
   "outputs": [
    {
     "name": "stdout",
     "output_type": "stream",
     "text": [
      "cat\n",
      "2012-01-01 00:00:00    A\n",
      "2012-01-01 01:00:00    A\n",
      "2012-01-01 02:00:00    C\n",
      "2012-01-01 03:00:00    A\n",
      "2012-01-01 04:00:00    B\n",
      "2012-01-01 05:00:00    B\n",
      "2012-01-01 06:00:00    B\n",
      "2012-01-01 07:00:00    C\n",
      "2012-01-01 08:00:00    D\n",
      "2012-01-01 09:00:00    A\n",
      "Freq: H, Name: cat, dtype: object\n",
      "cat_c\n",
      "2012-01-01 00:00:00    A\n",
      "2012-01-01 01:00:00    A\n",
      "2012-01-01 02:00:00    C\n",
      "2012-01-01 03:00:00    A\n",
      "2012-01-01 04:00:00    B\n",
      "2012-01-01 05:00:00    B\n",
      "2012-01-01 06:00:00    B\n",
      "2012-01-01 07:00:00    C\n",
      "2012-01-01 08:00:00    D\n",
      "2012-01-01 09:00:00    A\n",
      "Freq: H, Name: cat_c, dtype: category\n",
      "Categories (4, object): [A, B, C, D]\n",
      "['A' 'B' 'C' 'D']\n"
     ]
    }
   ],
   "source": [
    "# set into a category (equivalent to R factor)\n",
    "print('cat')\n",
    "print(data['cat'])\n",
    "\n",
    "data['cat_c'] = data['cat'].astype(\"category\")\n",
    "\n",
    "print('cat_c')\n",
    "print(data['cat_c'])\n",
    "print(data['cat_c'].cat.categories.values)  # extract list of categories"
   ]
  },
  {
   "cell_type": "markdown",
   "metadata": {},
   "source": [
    "## Mathematical operations\n",
    "\n",
    "Mathematical operations can be done by using the available pandas methods. Note that it is done only on numerical types."
   ]
  },
  {
   "cell_type": "code",
   "execution_count": 17,
   "metadata": {},
   "outputs": [
    {
     "name": "stdout",
     "output_type": "stream",
     "text": [
      "4.5\n"
     ]
    }
   ],
   "source": [
    "# Computes the mean over the entire data frame\n",
    "datam = data.mean()\n",
    "print(datam['xvalue'])"
   ]
  },
  {
   "cell_type": "code",
   "execution_count": 18,
   "metadata": {},
   "outputs": [
    {
     "name": "stdout",
     "output_type": "stream",
     "text": [
      "2012-01-01 00:00:00    0.00\n",
      "2012-01-01 01:00:00    0.75\n",
      "2012-01-01 02:00:00    1.50\n",
      "2012-01-01 03:00:00    2.25\n",
      "2012-01-01 04:00:00    3.00\n",
      "2012-01-01 05:00:00    3.75\n",
      "2012-01-01 06:00:00    4.50\n",
      "2012-01-01 07:00:00    5.25\n",
      "2012-01-01 08:00:00    6.00\n",
      "2012-01-01 09:00:00    6.75\n",
      "Freq: H, dtype: float64\n"
     ]
    }
   ],
   "source": [
    "# mean over the second dimension (columns)\n",
    "datam = data.mean(axis=1)\n",
    "print(datam)"
   ]
  },
  {
   "cell_type": "markdown",
   "metadata": {},
   "source": [
    "There is also the possibility to do some treatments depending on the value of a caterogical variable."
   ]
  },
  {
   "cell_type": "code",
   "execution_count": 19,
   "metadata": {},
   "outputs": [
    {
     "name": "stdout",
     "output_type": "stream",
     "text": [
      "                     xvalue  yvalue cat cat_c\n",
      "2012-01-01 00:00:00       0     0.0   A     A\n",
      "2012-01-01 01:00:00       1     0.5   A     A\n",
      "2012-01-01 03:00:00       3     1.5   A     A\n",
      "2012-01-01 09:00:00       9     4.5   A     A\n",
      "2012-01-01 04:00:00       4     2.0   B     B\n",
      "2012-01-01 05:00:00       5     2.5   B     B\n",
      "2012-01-01 06:00:00       6     3.0   B     B\n",
      "2012-01-01 02:00:00       2     1.0   C     C\n",
      "2012-01-01 07:00:00       7     3.5   C     C\n",
      "2012-01-01 08:00:00       8     4.0   D     D\n"
     ]
    }
   ],
   "source": [
    "datas = data.sort_values(by=\"cat\")\n",
    "print(datas)"
   ]
  },
  {
   "cell_type": "code",
   "execution_count": 20,
   "metadata": {},
   "outputs": [
    {
     "name": "stdout",
     "output_type": "stream",
     "text": [
      "cat\n",
      "A    4\n",
      "B    3\n",
      "C    2\n",
      "D    1\n",
      "dtype: int64\n"
     ]
    }
   ],
   "source": [
    "datas =  data.groupby(\"cat\").size()\n",
    "print(datas)"
   ]
  },
  {
   "cell_type": "code",
   "execution_count": 21,
   "metadata": {},
   "outputs": [
    {
     "name": "stdout",
     "output_type": "stream",
     "text": [
      "cat\n",
      "A    4\n",
      "B    3\n",
      "C    2\n",
      "D    1\n",
      "dtype: int64\n"
     ]
    }
   ],
   "source": [
    "datas =  data.groupby(\"cat\").size()\n",
    "print(datas)"
   ]
  },
  {
   "cell_type": "code",
   "execution_count": 22,
   "metadata": {},
   "outputs": [
    {
     "name": "stdout",
     "output_type": "stream",
     "text": [
      "     xvalue  yvalue\n",
      "cat                \n",
      "A      3.25   1.625\n",
      "B      5.00   2.500\n",
      "C      4.50   2.250\n",
      "D      8.00   4.000\n"
     ]
    }
   ],
   "source": [
    "datas =  data.groupby(\"cat\").mean()\n",
    "print(datas)"
   ]
  },
  {
   "cell_type": "code",
   "execution_count": 23,
   "metadata": {},
   "outputs": [
    {
     "name": "stdout",
     "output_type": "stream",
     "text": [
      "       xvalue    yvalue\n",
      "cat                    \n",
      "A    4.031129  2.015564\n",
      "B    1.000000  0.500000\n",
      "C    3.535534  1.767767\n",
      "D         NaN       NaN\n"
     ]
    }
   ],
   "source": [
    "datas =  data.groupby(\"cat\").std()\n",
    "print(datas)"
   ]
  },
  {
   "cell_type": "markdown",
   "metadata": {},
   "source": [
    "## Writting a CSV\n",
    "\n",
    "Writting a CSV file is done by calling the [DataFrame.to_csv](https://pandas.pydata.org/pandas-docs/stable/reference/api/pandas.DataFrame.to_csv.html) method."
   ]
  },
  {
   "cell_type": "code",
   "execution_count": 24,
   "metadata": {},
   "outputs": [],
   "source": [
    "import numpy as np\n",
    "\n",
    "# init a date object: 10 elements with a 1h interval\n",
    "date = pd.date_range('1/1/2012', periods=10, freq='H')\n",
    "\n",
    "x = np.arange(10)\n",
    "y = np.arange(10)*0.5\n",
    "cat = ['A']*2 + ['C'] + ['A'] + 3*['B'] + ['C'] + ['D'] + ['A']\n",
    "\n",
    "data = pd.DataFrame({'xvalue': x,\n",
    "                     'yvalue': y,\n",
    "                     'cat': cat},\n",
    "                     index=date)\n",
    "\n",
    "data.to_csv('data/example.csv', sep=';')"
   ]
  }
 ],
 "metadata": {
  "jupytext": {
   "formats": "ipynb,py"
  },
  "kernelspec": {
   "display_name": "Python 3",
   "language": "python",
   "name": "python3"
  },
  "language_info": {
   "codemirror_mode": {
    "name": "ipython",
    "version": 3
   },
   "file_extension": ".py",
   "mimetype": "text/x-python",
   "name": "python",
   "nbconvert_exporter": "python",
   "pygments_lexer": "ipython3",
   "version": "3.7.4"
  }
 },
 "nbformat": 4,
 "nbformat_minor": 2
}
