{
 "cells": [
  {
   "cell_type": "markdown",
   "metadata": {},
   "source": [
    "# Text files\n",
    "\n",
    "## Opening files\n",
    "\n",
    "To open file a text file, use the `with` statement. It allows to insure that the file is properly opened and properly closed, even if an error is encountered (see [the-with-statement](https://docs.python.org/3/reference/compound_stmts.html#the-with-statement) for a detailed description)."
   ]
  },
  {
   "cell_type": "code",
   "execution_count": 1,
   "metadata": {},
   "outputs": [
    {
     "name": "stdout",
     "output_type": "stream",
     "text": [
      "False\n",
      "True\n"
     ]
    }
   ],
   "source": [
    "# defining the name of the file to read\n",
    "filename = 'data/nao.txt'\n",
    "\n",
    "with open(filename,'r') as f:\n",
    "    print(f.closed)\n",
    "print(f.closed)"
   ]
  },
  {
   "cell_type": "markdown",
   "metadata": {},
   "source": [
    "## Reading"
   ]
  },
  {
   "cell_type": "code",
   "execution_count": 2,
   "metadata": {},
   "outputs": [
    {
     "name": "stdout",
     "output_type": "stream",
     "text": [
      "122\n",
      "@ Hurrell PC-Based North Atlantic Oscillation Index (DJFM)\n",
      "@\n",
      "#Hurrell PC-Based North Atlantic Oscillation Index (DJFM)#\n"
     ]
    }
   ],
   "source": [
    "# read all the lines and store them in a list\n",
    "with open(filename,'r') as f:\n",
    "    lines = f.readlines()\n",
    "print(len(lines))\n",
    "print('@%s@' %lines[0])\n",
    "print('#%s#' %lines[0].strip())  # removes the \\n char"
   ]
  },
  {
   "cell_type": "code",
   "execution_count": 3,
   "metadata": {},
   "outputs": [
    {
     "name": "stdout",
     "output_type": "stream",
     "text": [
      "1994\n",
      " Hurrell P\n"
     ]
    }
   ],
   "source": [
    "# Read all the file and store as 1 string\n",
    "with open(filename,'r') as f:\n",
    "    data = f.read()\n",
    "print(len(data))\n",
    "print(data[:10])"
   ]
  },
  {
   "cell_type": "code",
   "execution_count": 4,
   "metadata": {},
   "outputs": [
    {
     "name": "stdout",
     "output_type": "stream",
     "text": [
      "200\n",
      " Hurrell PC-Based North Atlantic Oscillation Index (DJFM)\n",
      "  1899.   -0.69\n",
      "  1900.   -1.32\n",
      "  1901.   -0.37\n",
      "  1902.   -0.69\n",
      "  1903.    1.33\n",
      "  1904.   -0.01\n",
      "  1905.    0.83\n",
      "  1906.    0.83\n",
      "  1907.    1.1\n"
     ]
    }
   ],
   "source": [
    "# Read the first 200 chars of the file and store as 1 string\n",
    "with open(filename,'r') as f:\n",
    "    data = f.read(200)\n",
    "print(len(data))\n",
    "print(data)"
   ]
  },
  {
   "cell_type": "code",
   "execution_count": 5,
   "metadata": {},
   "outputs": [
    {
     "name": "stdout",
     "output_type": "stream",
     "text": [
      "Hurrell PC-Based North Atlantic Oscillation Index (DJFM)\n",
      "1899.   -0.69\n",
      "1900.   -1.32\n",
      "1901.   -0.37\n",
      "1902.   -0.69\n",
      "1903.    1.33\n",
      "1904.   -0.01\n",
      "1905.    0.83\n",
      "1906.    0.83\n",
      "1907.    1.11\n",
      "1908.    0.56\n",
      "1909.   -0.50\n",
      "1910.    0.43\n",
      "1911.    0.47\n",
      "1912.   -0.43\n",
      "1913.    1.40\n",
      "1914.    0.47\n",
      "1915.   -0.70\n",
      "1916.   -0.22\n",
      "1917.   -1.18\n",
      "1918.    0.03\n",
      "1919.   -0.87\n",
      "1920.    1.58\n",
      "1921.    0.69\n",
      "1922.    0.59\n",
      "1923.    0.36\n",
      "1924.   -0.65\n",
      "1925.    1.09\n",
      "1926.   -0.31\n",
      "1927.    0.50\n",
      "1928.    0.16\n",
      "1929.   -0.59\n",
      "1930.    0.42\n",
      "1931.   -0.68\n",
      "1932.   -0.09\n",
      "1933.   -0.10\n",
      "1934.    0.97\n",
      "1935.    0.07\n",
      "1936.   -1.94\n",
      "1937.   -0.15\n",
      "1938.    0.54\n",
      "1939.   -0.13\n",
      "1940.   -1.94\n",
      "1941.   -1.23\n",
      "1942.   -1.07\n",
      "1943.    0.62\n",
      "1944.    0.52\n",
      "1945.   -0.08\n",
      "1946.   -0.27\n",
      "1947.   -1.86\n",
      "1948.    0.26\n",
      "1949.    1.02\n",
      "1950.    0.48\n",
      "1951.   -0.93\n",
      "1952.   -0.14\n",
      "1953.   -0.01\n",
      "1954.    0.15\n",
      "1955.   -1.25\n",
      "1956.   -1.04\n",
      "1957.    0.04\n",
      "1958.   -1.26\n",
      "1959.    0.10\n",
      "1960.   -1.81\n",
      "1961.    0.74\n",
      "1962.   -0.92\n",
      "1963.   -1.29\n",
      "1964.   -0.88\n",
      "1965.   -0.81\n",
      "1966.   -1.56\n",
      "1967.    0.62\n",
      "1968.   -0.15\n",
      "1969.   -2.57\n",
      "1970.   -1.15\n",
      "1971.   -0.66\n",
      "1972.    0.12\n",
      "1973.    1.20\n",
      "1974.    0.37\n",
      "1975.    0.74\n",
      "1976.    1.22\n",
      "1977.   -1.34\n",
      "1978.   -0.55\n",
      "1979.   -1.44\n",
      "1980.   -0.35\n",
      "1981.    0.29\n",
      "1982.   -0.21\n",
      "1983.    1.29\n",
      "1984.    0.43\n",
      "1985.   -0.80\n",
      "1986.   -0.01\n",
      "1987.   -0.66\n",
      "1988.   -0.17\n",
      "1989.    2.46\n",
      "1990.    1.91\n",
      "1991.    0.56\n",
      "1992.    1.76\n",
      "1993.    1.76\n",
      "1994.    0.87\n",
      "1995.    1.29\n",
      "1996.   -1.44\n",
      "1997.    0.71\n",
      "1998.   -0.01\n",
      "1999.    0.66\n",
      "2000.    1.61\n",
      "2001.   -1.01\n",
      "2002.    0.62\n",
      "2003.    0.05\n",
      "2004.   -0.12\n",
      "2005.    0.36\n",
      "2006.   -0.90\n",
      "2007.    1.16\n",
      "2008.    1.06\n",
      "2009.    0.04\n",
      "2010.   -2.57\n",
      "2011.   -0.68\n",
      "2012.    1.60\n",
      "2013.   -1.68\n",
      "2014.    0.91\n",
      "2015.    1.87\n",
      "2016.    1.00\n",
      "2017.    0.89\n",
      "2018.   -0.16\n",
      "2019.    0.76\n"
     ]
    }
   ],
   "source": [
    "# loop over all the lines of the file, and extract the first one\n",
    "# finishes when \"end of line is found\"\n",
    "with open(filename,'r') as f:\n",
    "    for line in f:\n",
    "        print(line.strip())"
   ]
  },
  {
   "cell_type": "code",
   "execution_count": 6,
   "metadata": {},
   "outputs": [
    {
     "name": "stdout",
     "output_type": "stream",
     "text": [
      "1903.    1.33\n",
      "1904.   -0.01\n",
      "1905.    0.83\n",
      "1906.    0.83\n",
      "1907.    1.11\n"
     ]
    }
   ],
   "source": [
    "# to parse a certain range of the file, one \n",
    "# way is to use the itertools package\n",
    "import itertools\n",
    "with open(filename,'r') as f:\n",
    "    for line in itertools.islice(f, 5, 10):\n",
    "        print(line.strip())"
   ]
  },
  {
   "cell_type": "markdown",
   "metadata": {},
   "source": [
    "## Writting\n",
    "\n",
    "Files are written out line by line."
   ]
  },
  {
   "cell_type": "code",
   "execution_count": 7,
   "metadata": {},
   "outputs": [],
   "source": [
    "# Generates some data\n",
    "import numpy as np\n",
    "\n",
    "xdata = np.linspace(0, np.pi/4., 5)\n",
    "cosx = np.cos(xdata)\n",
    "sinx = np.sin(xdata)\n",
    "tanx = np.tan(xdata)"
   ]
  },
  {
   "cell_type": "code",
   "execution_count": 8,
   "metadata": {},
   "outputs": [
    {
     "name": "stdout",
     "output_type": "stream",
     "text": [
      "x\tcos\tsin\ttan\n",
      "\n",
      "0.0000\t1.00000000\t0.00000000\t0.00000000\n",
      "\n",
      "0.1963\t0.98078528\t0.19509032\t0.19891237\n",
      "\n",
      "0.3927\t0.92387953\t0.38268343\t0.41421356\n",
      "\n",
      "0.5890\t0.83146961\t0.55557023\t0.66817864\n",
      "\n",
      "0.7854\t0.70710678\t0.70710678\t1.00000000\n",
      "\n"
     ]
    }
   ],
   "source": [
    "# opening the file\n",
    "with open('data/outfile.txt', 'w') as fout:\n",
    "\n",
    "    # writting the header: 4 strings separated by tabs.\n",
    "    header = ['x', 'cos', 'sin', 'tan']\n",
    "    string='%s\\t%s\\t%s\\t%s\\n' % (header[0], header[1], header[2], header[3])  # writes the header\n",
    "    print(string)\n",
    "    fout.write(string)\n",
    "\n",
    "\n",
    "    # looping over all the data\n",
    "    for x, c, s, t in zip(xdata, cosx, sinx, tanx):\n",
    "        # writting the string associated with the data\n",
    "        string = '%.4f\\t%.8f\\t%.8f\\t%.8f\\n' %(x, c, s, t)    # writes the data\n",
    "        print(string)\n",
    "        fout.write(string)"
   ]
  }
 ],
 "metadata": {
  "jupytext": {
   "formats": "ipynb,py"
  },
  "kernelspec": {
   "display_name": "Python 3",
   "language": "python",
   "name": "python3"
  },
  "language_info": {
   "codemirror_mode": {
    "name": "ipython",
    "version": 3
   },
   "file_extension": ".py",
   "mimetype": "text/x-python",
   "name": "python",
   "nbconvert_exporter": "python",
   "pygments_lexer": "ipython3",
   "version": "3.7.4"
  }
 },
 "nbformat": 4,
 "nbformat_minor": 2
}
