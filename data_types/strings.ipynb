{
 "cells": [
  {
   "cell_type": "markdown",
   "metadata": {},
   "source": [
    "# Strings\n",
    "\n",
    "## Usage\n",
    "\n",
    "String objects are very common in Python. They are especially usefull when reading and writting text files.\n",
    "\n",
    "They are defined between simple quotes (```'```) or double quotes (```\"```). \n",
    "\n",
    "\n",
    "<div class=\"alert alert-warning\">     \n",
    "<strong>Caution!</strong> Opening and closing quotes must be the same\n",
    "</div>\n",
    "    \n",
    "# Special characters \n",
    " \n",
    "Python contains a set of predefined characters, which are listed below (source: [python.org](https://docs.python.org/3/reference/lexical_analysis.html))\n",
    "\n",
    "|Character |  Definition    \n",
    "|:--------:|:------------------------------:\n",
    "|```\\a```  | ASCII Bell (BEL)\n",
    "|```\\b```  | ASCII Backspace (BS)\n",
    "|```\\f```  | ASCII Formfeed (FF)\n",
    "|```\\n```  | ASCII Linefeed (LF)\n",
    "|```\\r```  | ASCII Carriage Return (CR)\n",
    "|```\\t```  | ASCII Horizontal Tab (TAB)\n",
    "|```\\v```  | ASCII Vertical Tab (VT)\n",
    "\n",
    "In order to escape these special characters, add ```r``` before the 1st quote:"
   ]
  },
  {
   "cell_type": "code",
   "execution_count": 1,
   "metadata": {},
   "outputs": [
    {
     "name": "stdout",
     "output_type": "stream",
     "text": [
      "@this is \n",
      "@\n",
      "%this is \\n%\n"
     ]
    }
   ],
   "source": [
    "str1 = '@this is \\n@'  # \\n interpreted as line break\n",
    "print(str1)\n",
    "str2 = r'%this is \\n%'\n",
    "print(str2)"
   ]
  },
  {
   "cell_type": "markdown",
   "metadata": {},
   "source": [
    "## String manipulation\n",
    "\n",
    "String objects have a lot of methods to manipulate them. \n",
    "\n",
    "Since they are *immutable*, these methods return new string objects, compared to list methods, which\n",
    "change the list content."
   ]
  },
  {
   "cell_type": "markdown",
   "metadata": {},
   "source": [
    "### Extracting characters"
   ]
  },
  {
   "cell_type": "code",
   "execution_count": 2,
   "metadata": {},
   "outputs": [
    {
     "name": "stdout",
     "output_type": "stream",
     "text": [
      "17\n",
      "['c', 'h', 'a', 'r', '1', ' ', 'c', 'h', 'a', 'r', '2', ' ', 'c', 'h', 'a', 'r', '3']\n"
     ]
    }
   ],
   "source": [
    "string1 = 'char1 char2 char3'\n",
    "print(len(string1))  # length of a string\n",
    "\n",
    "chars = list(string1) # returns a list of char\n",
    "print(chars)"
   ]
  },
  {
   "cell_type": "markdown",
   "metadata": {},
   "source": [
    "### Changing case"
   ]
  },
  {
   "cell_type": "code",
   "execution_count": 3,
   "metadata": {},
   "outputs": [
    {
     "name": "stdout",
     "output_type": "stream",
     "text": [
      "char1 char2 char3\n",
      "CHAR1 CHAR2 CHAR3\n",
      "Char1 char2 char3\n"
     ]
    }
   ],
   "source": [
    "# change case\n",
    "# sets the string to lower case\n",
    "stringl = string1.lower()\n",
    "print(stringl)\n",
    "\n",
    "# sets the string to uper case\n",
    "stringu = string1.upper()\n",
    "print(stringu)\n",
    "\n",
    "stringc = string1.capitalize()\n",
    "print(stringc)\n",
    "\n",
    "# note here that syntax is different from list\n",
    "# output of the method is a new string object since strings are immutable"
   ]
  },
  {
   "cell_type": "markdown",
   "metadata": {},
   "source": [
    "### Replacement and word splitting"
   ]
  },
  {
   "cell_type": "code",
   "execution_count": 4,
   "metadata": {},
   "outputs": [
    {
     "name": "stdout",
     "output_type": "stream",
     "text": [
      "char1 char2 char3\n",
      "['char1', 'char2', 'char3']\n",
      "['char1 char2 char3']\n"
     ]
    }
   ],
   "source": [
    "string2 = string1.replace('Char2', 'toto')\n",
    "print(string2)\n",
    "\n",
    "words = string1.split(' ') #['Char1', 'Char2', 'Char3']\n",
    "print(words)\n",
    "\n",
    "words = string1.split(',') #['Char1', 'Char2', 'Char3']\n",
    "print(words)"
   ]
  },
  {
   "cell_type": "markdown",
   "metadata": {},
   "source": [
    "### String formatting"
   ]
  },
  {
   "cell_type": "code",
   "execution_count": 5,
   "metadata": {},
   "outputs": [
    {
     "name": "stdout",
     "output_type": "stream",
     "text": [
      "toto1,\n",
      "toto2,\n",
      "toto3\n"
     ]
    }
   ],
   "source": [
    "sep = ',\\n'\n",
    "# merges a list of strings in one string providing a separator\n",
    "string3 = sep.join(['toto1', 'toto2','toto3'])\n",
    "print(string3)"
   ]
  },
  {
   "cell_type": "code",
   "execution_count": 6,
   "metadata": {},
   "outputs": [
    {
     "name": "stdout",
     "output_type": "stream",
     "text": [
      "toto1toto1\ttoto2\n",
      "toto3 10\n"
     ]
    }
   ],
   "source": [
    "# strings behaves  list, no maths with lists! \n",
    "# + and * for string concatenations\n",
    "string4 = 2 * 'toto1' + '\\t' + 'toto2' + \\\n",
    "          '\\n' + 'toto3 ' + str(10)\n",
    "print(string4)  "
   ]
  },
  {
   "cell_type": "code",
   "execution_count": 7,
   "metadata": {},
   "outputs": [
    {
     "name": "stdout",
     "output_type": "stream",
     "text": [
      "0010, 0.50000, 5.000e-03\n",
      "\n"
     ]
    }
   ],
   "source": [
    "# variables to display\n",
    "x = 10\n",
    "y = 0.5\n",
    "z = 0.005\n",
    "\n",
    "# string formatting. There should be as many %s as variables to display\n",
    "string5 = '%04d, %.5f, %.3e\\n' %(x, y, z) \n",
    "# string5 = '%04d, %.5f\\n' %(x, y, z) # fails because inconsistent number of var.\n",
    "print(string5)"
   ]
  },
  {
   "cell_type": "code",
   "execution_count": 8,
   "metadata": {},
   "outputs": [
    {
     "name": "stdout",
     "output_type": "stream",
     "text": [
      "Percentage:\n",
      "10%\n"
     ]
    }
   ],
   "source": [
    "# If you want to write percentage symbol, use %s (string format)\n",
    "string5 = 'Percentage:\\n%d%s' %(x, '%') \n",
    "print(string5)"
   ]
  },
  {
   "cell_type": "code",
   "execution_count": 9,
   "metadata": {},
   "outputs": [
    {
     "name": "stdout",
     "output_type": "stream",
     "text": [
      "# test string   #\n",
      "#test string#\n"
     ]
    }
   ],
   "source": [
    "string5 = ' test string   '\n",
    "# removing trailing whitespace (usefull when reading a file)\n",
    "string6 = string5.strip()\n",
    "print('#' + string5 + '#')\n",
    "print('#' + string6 + '#')"
   ]
  },
  {
   "cell_type": "markdown",
   "metadata": {},
   "source": [
    "## Regular expressions\n",
    "\n",
    "A very powerfull feature is the use of *regular expressions, which allows to match strings with given patterns ([re](https://docs.python.org/3/library/re.html) library)."
   ]
  },
  {
   "cell_type": "markdown",
   "metadata": {},
   "source": [
    "### Creating regular expressions"
   ]
  },
  {
   "cell_type": "code",
   "execution_count": 10,
   "metadata": {},
   "outputs": [],
   "source": [
    "# load the regular expression package\n",
    "import re \n",
    "\n",
    "# match string that starts (^) with a number ranging from 0 to 9\n",
    "pattern1 = r'^[0-9]'\n",
    "reg1 = re.compile(pattern1)  # creates an object that will be used to match string\n",
    "\n",
    "# match string that ends ($) with a number ranging from 0 to 9\n",
    "pattern2 = r'\\d$'  # \\d is a shortcut for [0-9]\n",
    "reg2 = re.compile(pattern2)  # creates an object that will be used to match string"
   ]
  },
  {
   "cell_type": "markdown",
   "metadata": {},
   "source": [
    "### Matching regular expressions"
   ]
  },
  {
   "cell_type": "code",
   "execution_count": 11,
   "metadata": {},
   "outputs": [],
   "source": [
    "string1 = r'2-start'\n",
    "string2 = r'end-3'"
   ]
  },
  {
   "cell_type": "code",
   "execution_count": 12,
   "metadata": {},
   "outputs": [
    {
     "data": {
      "text/plain": [
       "<re.Match object; span=(0, 1), match='2'>"
      ]
     },
     "execution_count": 12,
     "metadata": {},
     "output_type": "execute_result"
    }
   ],
   "source": [
    "reg1.match(string1)  # match: returns a re.Match object"
   ]
  },
  {
   "cell_type": "code",
   "execution_count": 13,
   "metadata": {},
   "outputs": [],
   "source": [
    "reg2.match(string2)  # no match: returns None"
   ]
  },
  {
   "cell_type": "code",
   "execution_count": 14,
   "metadata": {},
   "outputs": [],
   "source": [
    "reg2.match(string1)  # returns None (no match)"
   ]
  },
  {
   "cell_type": "code",
   "execution_count": 15,
   "metadata": {},
   "outputs": [],
   "source": [
    "reg1.match(string2)  # returns a re.Match oject"
   ]
  },
  {
   "cell_type": "code",
   "execution_count": 16,
   "metadata": {},
   "outputs": [
    {
     "data": {
      "text/plain": [
       "<re.Match object; span=(0, 1), match='2'>"
      ]
     },
     "execution_count": 16,
     "metadata": {},
     "output_type": "execute_result"
    }
   ],
   "source": [
    "# note: you should compile a regular expression if will be\n",
    "# often tested. For isolated cases, you can use:\n",
    "re.match(pattern1, string1)"
   ]
  },
  {
   "cell_type": "markdown",
   "metadata": {},
   "source": [
    "### Extracting values\n",
    "\n",
    "To extract the values matched by a regular expression, use the `groups` method. For that, the \n",
    "string pattern that must be extracted must be contained between `()`."
   ]
  },
  {
   "cell_type": "code",
   "execution_count": 17,
   "metadata": {},
   "outputs": [],
   "source": [
    "string1 = r'2-start'\n",
    "string2 = r'04304-end'\n",
    "string3 = r'04304-END'\n",
    "string4 = r'-END'"
   ]
  },
  {
   "cell_type": "code",
   "execution_count": 18,
   "metadata": {},
   "outputs": [],
   "source": [
    "# Function that returns the groups if a match is not None\n",
    "def test(match):\n",
    "    if(match):\n",
    "        print(match.groups())\n",
    "    else:\n",
    "        print('none')"
   ]
  },
  {
   "cell_type": "code",
   "execution_count": 19,
   "metadata": {},
   "outputs": [
    {
     "name": "stdout",
     "output_type": "stream",
     "text": [
      "('2', 'start')\n",
      "('04304', 'end')\n",
      "none\n",
      "none\n"
     ]
    }
   ],
   "source": [
    "# to get the integer value, use the groups method of the re package\n",
    "# use () to encompass the elements you want to extract\n",
    "pattern1 = r'^([0-9]+)-([a-z]+)$'  # + = 1 or more match of the preceding pattern\n",
    "reg1 = re.compile(pattern1)\n",
    "\n",
    "test(reg1.match(string1)) # Match \n",
    "test(reg1.match(string2)) # Match\n",
    "test(reg1.match(string3)) # No match (end not of the right case)\n",
    "test(reg1.match(string4)) # No match (doesnt start with num.)"
   ]
  },
  {
   "cell_type": "code",
   "execution_count": 20,
   "metadata": {},
   "outputs": [
    {
     "name": "stdout",
     "output_type": "stream",
     "text": [
      "('2', 'start')\n",
      "('04304', 'end')\n",
      "('04304', 'END')\n",
      "none\n"
     ]
    }
   ],
   "source": [
    "pattern2 = r'^([0-9]+)-([a-zA-Z]+)$'  # + = 1 or more match of the preceding pattern\n",
    "reg2 = re.compile(pattern2)\n",
    "\n",
    "test(reg2.match(string1)) # Match \n",
    "test(reg2.match(string2)) # Match\n",
    "test(reg2.match(string3)) # Match (pattern is now case insensitiv)\n",
    "test(reg2.match(string4)) # No match (doesnt start with num.)"
   ]
  },
  {
   "cell_type": "code",
   "execution_count": 21,
   "metadata": {},
   "outputs": [
    {
     "name": "stdout",
     "output_type": "stream",
     "text": [
      "('2', 'start')\n",
      "('04304', 'end')\n",
      "('04304', 'END')\n",
      "('', 'END')\n"
     ]
    }
   ],
   "source": [
    "pattern3 = r'^([0-9]*)-([a-zA-Z]+)$'  # * = 0 or more match of the preceding pattern\n",
    "reg3 = re.compile(pattern3)\n",
    "\n",
    "# All matches\n",
    "test(reg3.match(string1))\n",
    "test(reg3.match(string2))\n",
    "test(reg3.match(string3))\n",
    "test(reg3.match(string4))"
   ]
  },
  {
   "cell_type": "code",
   "execution_count": 22,
   "metadata": {},
   "outputs": [
    {
     "name": "stdout",
     "output_type": "stream",
     "text": [
      "('2', 'start')\n",
      "none\n",
      "none\n",
      "('', 'END')\n"
     ]
    }
   ],
   "source": [
    "pattern4 = r'^([0-9]?)-([a-zA-Z]+)$'  # ? = 0 or 1 match of the preceding pattern\n",
    "reg4 = re.compile(pattern4)\n",
    "test(reg4.match(string1))  # Match\n",
    "test(reg4.match(string2)) # No match (more that 0 or 1 number at the begining)\n",
    "test(reg4.match(string3)) # No match (more that 0 or 1 number at the begining)\n",
    "test(reg4.match(string4))"
   ]
  },
  {
   "cell_type": "markdown",
   "metadata": {},
   "source": [
    "### Splitting using regular expressions"
   ]
  },
  {
   "cell_type": "code",
   "execution_count": 23,
   "metadata": {},
   "outputs": [
    {
     "name": "stdout",
     "output_type": "stream",
     "text": [
      "['lala', '', '', '', '', 'toto', '', '', '', '', '', '', '', '', '', '', '', '', '', '', '', '', '', '', '', '', 'titi']\n",
      "['lala', 'toto', 'titi']\n"
     ]
    }
   ],
   "source": [
    "# How to split this string into the three names?    \n",
    "string1 = r'lala     toto                     titi'\n",
    "sp1 = string1.split(' ')\n",
    "print(sp1)\n",
    "reg = re.compile(' +')  # split based on regular expressions: splits with separator = 1 or more spaces\n",
    "sp2 = reg.split(string1) \n",
    "print(sp2)"
   ]
  },
  {
   "cell_type": "code",
   "execution_count": 24,
   "metadata": {},
   "outputs": [
    {
     "name": "stdout",
     "output_type": "stream",
     "text": [
      "01 0304 02 45 509 2950 204\n",
      "['0', '1', '0', '3', '0', '4', '0', '2', '4', '5', '5', '0', '9', '2', '9', '5', '0', '2', '0', '4']\n"
     ]
    }
   ],
   "source": [
    "string1 = r'01 0304 02 45 509 2950 204' # 302 01 2030 39393 50505 s0304 43df'\n",
    "\n",
    "# list all the digits of the string\n",
    "reg = re.compile(r'[0-9]')\n",
    "print(string1)\n",
    "print(reg.findall(string1))"
   ]
  },
  {
   "cell_type": "code",
   "execution_count": 25,
   "metadata": {},
   "outputs": [
    {
     "name": "stdout",
     "output_type": "stream",
     "text": [
      "01 0304 02 45 509 2950 204\n",
      "['01', '030', '02', '45', '509', '295', '204']\n"
     ]
    }
   ],
   "source": [
    "# List all the 2 to 3 digits. However, 0304 is matched as 030\n",
    "reg = re.compile(r'[0-9]{2,3}')\n",
    "print(string1)\n",
    "print(reg.findall(string1))"
   ]
  },
  {
   "cell_type": "code",
   "execution_count": 26,
   "metadata": {},
   "outputs": [
    {
     "name": "stdout",
     "output_type": "stream",
     "text": [
      "01 0304 02 45 509 2950 204\n",
      "['01 ', '304 ', '02 ', '45 ', '509 ', '950 ']\n"
     ]
    }
   ],
   "source": [
    "# better but 0304 is still matched as 304, and 204 is not matched\n",
    "reg = re.compile(r'[0-9]{2,3} ')  # adding white space at the end\n",
    "print(string1)\n",
    "print(reg.findall(string1))"
   ]
  },
  {
   "cell_type": "code",
   "execution_count": 27,
   "metadata": {},
   "outputs": [
    {
     "name": "stdout",
     "output_type": "stream",
     "text": [
      "01 0304 02 45 509 2950 204\n",
      "['01 ', ' 02 ', ' 509 ', ' 204']\n"
     ]
    }
   ],
   "source": [
    "# we are close with or statements, but there are white spaces\n",
    "reg = re.compile(r' [0-9]{2,3} |^[0-9]{2,3} | [0-9]{2,3}$')\n",
    "print(string1)\n",
    "print(reg.findall(string1))"
   ]
  },
  {
   "cell_type": "code",
   "execution_count": 28,
   "metadata": {},
   "outputs": [
    {
     "name": "stdout",
     "output_type": "stream",
     "text": [
      "01 0304 02 45 509 2950 204\n",
      "['01', '02', '45', '509', '204']\n"
     ]
    }
   ],
   "source": [
    "# Solution: use the \\b (word delimiter)\n",
    "reg = re.compile(r'\\b[0-9]{2,3}\\b')\n",
    "print(string1)\n",
    "print(reg.findall(string1))"
   ]
  }
 ],
 "metadata": {
  "jupytext": {
   "formats": "ipynb,py"
  },
  "kernelspec": {
   "display_name": "Python 3",
   "language": "python",
   "name": "python3"
  },
  "language_info": {
   "codemirror_mode": {
    "name": "ipython",
    "version": 3
   },
   "file_extension": ".py",
   "mimetype": "text/x-python",
   "name": "python",
   "nbconvert_exporter": "python",
   "pygments_lexer": "ipython3",
   "version": "3.7.4"
  }
 },
 "nbformat": 4,
 "nbformat_minor": 2
}
