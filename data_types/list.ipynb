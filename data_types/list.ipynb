{
 "cells": [
  {
   "cell_type": "markdown",
   "metadata": {},
   "source": [
    "## Lists\n",
    "\n",
    "### Definition\n",
    "\n",
    "A list is an *ordered* sequence of elements, which are *not necessarily of the same type* and are accessible via a unique *index* (integer), which is the element's position within the list.\n",
    "\n",
    "<figure>\n",
    "    <center>\n",
    "    <img src=\"figs/tikz_list.svg\" alt=\"Static typing\" text-align=center width=400>\n",
    "     <figcaption text-align=center><i>Liste</i></figcaption>\n",
    "</figure>\n",
    "\n",
    "\n",
    "<div class='alert alert-info'>\n",
    "    <strong>Note. </strong> Python <i>tuple</i> can be viewed as immutable list. []  are replaced by ()\n",
    "</div>\n",
    "\n",
    "\n",
    "### Usage\n",
    "   \n",
    "Lists are used ([python.org](https://docs.python.org/fr/3/tutorial/datastructures.html)):\n",
    "    \n",
    "- The script arguments are stored in a list of strings (```sys.argv```)\n",
    "- The Python path is stored in a list (```sys.path```)\n",
    "- Used in loops (repeat operations over a list of objects)\n",
    "- The `dir` function returns methods/attributes as a list of string\n",
    "- Might be used as *stacks* (last-in, first-out). Not optimized for first-in, first-out.\n",
    "- To handle function arguments (```*args``` arguments)\n",
    "\n",
    "### Manipulation\n",
    "\n",
    "To have more about lists, visit [python.org](https://docs.python.org/3/tutorial/datastructures.html#more-on-lists)"
   ]
  },
  {
   "cell_type": "markdown",
   "metadata": {},
   "source": [
    "#### List creation"
   ]
  },
  {
   "cell_type": "code",
   "execution_count": 1,
   "metadata": {},
   "outputs": [
    {
     "name": "stdout",
     "output_type": "stream",
     "text": [
      "[]\n",
      "[1]\n"
     ]
    }
   ],
   "source": [
    "# Creates a list\n",
    "x = []  # empty list\n",
    "print(x)\n",
    "x = [1]  # list with 1 in it\n",
    "print(x)"
   ]
  },
  {
   "cell_type": "markdown",
   "metadata": {},
   "source": [
    "#### Adding elements"
   ]
  },
  {
   "cell_type": "code",
   "execution_count": 2,
   "metadata": {},
   "outputs": [
    {
     "name": "stdout",
     "output_type": "stream",
     "text": [
      "[1, [1, 2, 3, 4], 'String']\n",
      "3\n",
      "[1, 2, 3, 4]\n"
     ]
    }
   ],
   "source": [
    "# Append method: adds an element to an existing list\n",
    "x.append([1, 2, 3, 4]) # append -> add list in list\n",
    "x.append('String')\n",
    "print(x)\n",
    "print(len(x))\n",
    "print(x[1])"
   ]
  },
  {
   "cell_type": "code",
   "execution_count": 3,
   "metadata": {},
   "outputs": [
    {
     "name": "stdout",
     "output_type": "stream",
     "text": [
      "[1, 1, 2, 3, 4, 'S', 't', 'r', 'i', 'n', 'g']\n",
      "11\n",
      "1\n"
     ]
    }
   ],
   "source": [
    "# Extend method: adds the elements of a list to an existing list\n",
    "# (list concatenation). Compare x (append) and y (extend)\n",
    "y = [1]\n",
    "y.extend([1, 2, 3, 4]) # extend -> add list elements in a list\n",
    "y.extend('String') # !!! Strings are considered as a list of char!\n",
    "print(y)\n",
    "print(len(y))\n",
    "print(y[1])"
   ]
  },
  {
   "cell_type": "code",
   "execution_count": 4,
   "metadata": {},
   "outputs": [
    {
     "name": "stdout",
     "output_type": "stream",
     "text": [
      "[0, 1, 2, 3, 4, 5]\n",
      "[0, 1, 2, 0, 1, 2]\n",
      "[3, 4, 5, 3, 4, 5]\n"
     ]
    }
   ],
   "source": [
    "# List concatenation can also be done with the \"+\" symbol\n",
    "# the sum of list is equivalent to extend\n",
    "# you can also multiply a list by an integer to repeat the list\n",
    "####### No numerical operations with lists\n",
    "x = [0, 1, 2]\n",
    "y = [3, 4, 5]\n",
    "z = x + y\n",
    "print(x + y)\n",
    "print(2*x)\n",
    "print(2*y)"
   ]
  },
  {
   "cell_type": "markdown",
   "metadata": {},
   "source": [
    "#### Removing elements"
   ]
  },
  {
   "cell_type": "code",
   "execution_count": 5,
   "metadata": {},
   "outputs": [
    {
     "name": "stdout",
     "output_type": "stream",
     "text": [
      "17 19\n",
      "[15, 16, 18]\n",
      "[15, 18]\n"
     ]
    }
   ],
   "source": [
    "# init a list ranging from 15 to 19(!)\n",
    "x = list(range(15, 20))  \n",
    "\n",
    "# removes the element at index 2 (i.e. the 3rd element)\n",
    "# returns the value of the removed element\n",
    "removed_val = x.pop(2) \n",
    "removed_last = x.pop()\n",
    "print(removed_val, removed_last) \n",
    "print(x)\n",
    "\n",
    "# removes the element with the value 16 2 (i.e. the 3rd element)\n",
    "# returns the value of the removed element\n",
    "x.remove(16)\n",
    "print(x)"
   ]
  },
  {
   "cell_type": "markdown",
   "metadata": {},
   "source": [
    "#### List copy"
   ]
  },
  {
   "cell_type": "code",
   "execution_count": 6,
   "metadata": {},
   "outputs": [
    {
     "name": "stdout",
     "output_type": "stream",
     "text": [
      "4595603888 4595603888\n",
      "[1, 30, 3, 1000, 5]\n",
      "[1, 30, 3, 1000, 5]\n",
      "4594609360 4595603568\n",
      "[1, 30, 3, 4, 5]\n",
      "[1, 2, 3, 1000, 5]\n"
     ]
    }
   ],
   "source": [
    "# WARNING WITH THE COPY ASSIGNMENT OF MUTABLE!!!!\n",
    "# copy assignment copy references (i.e. memory adresses), not values\n",
    "# changing the content of a mutable does not change it's memory address\n",
    "# therefore changing x changes y (and conversely) \n",
    "# since they both refer to the same object\n",
    "x = [1, 2, 3, 4, 5]\n",
    "y = x\n",
    "print(id(x), id(y))  # same memory address\n",
    "x[1] = 30\n",
    "y[3] = 1000\n",
    "print(x)\n",
    "print(y)\n",
    "\n",
    "x = [1, 2, 3, 4, 5]\n",
    "y = x.copy()  # make a deep copy of x and store it in an object y\n",
    "print(id(x), id(y))  # different memory addresses\n",
    "x[1] = 30 \n",
    "y[3] = 1000\n",
    "print(x)\n",
    "print(y)"
   ]
  },
  {
   "cell_type": "markdown",
   "metadata": {},
   "source": [
    "#### Count, reverse, sort"
   ]
  },
  {
   "cell_type": "code",
   "execution_count": 7,
   "metadata": {},
   "outputs": [
    {
     "name": "stdout",
     "output_type": "stream",
     "text": [
      "2\n"
     ]
    }
   ],
   "source": [
    "# Counting the number of occurrences of an object\n",
    "x = [5, 6, 15, 7, 2, 15]\n",
    "print(x.count(15))"
   ]
  },
  {
   "cell_type": "code",
   "execution_count": 8,
   "metadata": {},
   "outputs": [
    {
     "name": "stdout",
     "output_type": "stream",
     "text": [
      "[15, 2, 7, 15, 6, 5]\n"
     ]
    }
   ],
   "source": [
    "# Reverse the list (in place)\n",
    "# This is done **in place**\n",
    "x = [5, 6, 15, 7, 2, 15]\n",
    "x.reverse()\n",
    "print(x)"
   ]
  },
  {
   "cell_type": "code",
   "execution_count": 9,
   "metadata": {},
   "outputs": [
    {
     "name": "stdout",
     "output_type": "stream",
     "text": [
      "None\n",
      "Help on built-in function reverse:\n",
      "\n",
      "reverse() method of builtins.list instance\n",
      "    Reverse *IN PLACE*.\n",
      "\n"
     ]
    }
   ],
   "source": [
    "# example of bad syntax\n",
    "x = [5, 6, 15, 7, 2, 15]\n",
    "x = x.reverse()\n",
    "print(x)\n",
    "# Why does it return None? Because the reverse() method returns\n",
    "# the reverts the input list, but returns nothing.\n",
    "# so in here, you attribute to a new object x the output of \n",
    "# the reverse method, which is None\n",
    "help([].reverse)"
   ]
  },
  {
   "cell_type": "code",
   "execution_count": 10,
   "metadata": {},
   "outputs": [
    {
     "name": "stdout",
     "output_type": "stream",
     "text": [
      "[2, 5, 6, 7, 15, 15]\n"
     ]
    }
   ],
   "source": [
    "# Sorting elements (in place)\n",
    "x = [5, 6, 15, 7, 2, 15]\n",
    "x.sort()  # sort elements (in place)\n",
    "print(x)"
   ]
  },
  {
   "cell_type": "markdown",
   "metadata": {},
   "source": [
    "#### Elements checking"
   ]
  },
  {
   "cell_type": "code",
   "execution_count": 11,
   "metadata": {},
   "outputs": [
    {
     "name": "stdout",
     "output_type": "stream",
     "text": [
      "True\n"
     ]
    }
   ],
   "source": [
    "# Check if element is in the list\n",
    "is2 = (2 in x)\n",
    "print(is2)"
   ]
  },
  {
   "cell_type": "code",
   "execution_count": 12,
   "metadata": {},
   "outputs": [
    {
     "name": "stdout",
     "output_type": "stream",
     "text": [
      "3\n",
      "7\n"
     ]
    }
   ],
   "source": [
    "ind7 = x.index(7)  # finds index of 7 element\n",
    "print(ind7)\n",
    "print(x[ind7])\n",
    "# ind1000 = x.index(1000)  # error because 1000 not in list"
   ]
  },
  {
   "cell_type": "markdown",
   "metadata": {},
   "source": [
    "#### List indexing"
   ]
  },
  {
   "cell_type": "code",
   "execution_count": 13,
   "metadata": {},
   "outputs": [
    {
     "name": "stdout",
     "output_type": "stream",
     "text": [
      "[1, 2, 3, 4, 5, 6, 7, 8, 9, 10]\n",
      "1\n",
      "[3, 4, 5]\n",
      "10\n",
      "[6, 7]\n",
      "[7, 8, 9, 10]\n",
      "[1, 2, 3]\n",
      "[3, 5, 7]\n",
      "[3, 4, 5, 6, 7, 8]\n",
      "[1, 5, 9]\n"
     ]
    }
   ],
   "source": [
    "# List indexing is a delicate part....\n",
    "# In python, index starts at 0\n",
    "# But you can access them with negative indexes\n",
    "x =  [1, 2, 3, 4, 5, 6, 7, 8, 9, 10]\n",
    "# k = 0  1  2  3  4  5  6  7  8  9\n",
    "\n",
    "print(x)\n",
    "print(x[0]) # getting first elements\n",
    "print(x[2:5]) # getting elements from index 2 to index 4(!)\n",
    "\n",
    "print(x[-1]) # getting last element\n",
    "print(x[-5:-3]) # getting the elements from 5th to last to 4th(!) to last\n",
    "\n",
    "print(x[6:]) # getting all the elements starting from index 6\n",
    "print(x[:3]) # getting all elements from 0 to index 2(!)\n",
    "\n",
    "# getting elements starting from index 2 \n",
    "# ending to index -2 with a stride of 2\n",
    "print(x[2:-2:2]) \n",
    "print(x[2:-2:1]) \n",
    "\n",
    "print(x[::4]) # getting all the elements with a stride of 2"
   ]
  },
  {
   "cell_type": "code",
   "execution_count": 14,
   "metadata": {},
   "outputs": [
    {
     "name": "stdout",
     "output_type": "stream",
     "text": [
      "[4, 6, 8]\n",
      "[4, 6, 8]\n",
      "Help on class slice in module builtins:\n",
      "\n",
      "class slice(object)\n",
      " |  slice(stop)\n",
      " |  slice(start, stop[, step])\n",
      " |  \n",
      " |  Create a slice object.  This is used for extended slicing (e.g. a[0:10:2]).\n",
      " |  \n",
      " |  Methods defined here:\n",
      " |  \n",
      " |  __eq__(self, value, /)\n",
      " |      Return self==value.\n",
      " |  \n",
      " |  __ge__(self, value, /)\n",
      " |      Return self>=value.\n",
      " |  \n",
      " |  __getattribute__(self, name, /)\n",
      " |      Return getattr(self, name).\n",
      " |  \n",
      " |  __gt__(self, value, /)\n",
      " |      Return self>value.\n",
      " |  \n",
      " |  __le__(self, value, /)\n",
      " |      Return self<=value.\n",
      " |  \n",
      " |  __lt__(self, value, /)\n",
      " |      Return self<value.\n",
      " |  \n",
      " |  __ne__(self, value, /)\n",
      " |      Return self!=value.\n",
      " |  \n",
      " |  __reduce__(...)\n",
      " |      Return state information for pickling.\n",
      " |  \n",
      " |  __repr__(self, /)\n",
      " |      Return repr(self).\n",
      " |  \n",
      " |  indices(...)\n",
      " |      S.indices(len) -> (start, stop, stride)\n",
      " |      \n",
      " |      Assuming a sequence of length len, calculate the start and stop\n",
      " |      indices, and the stride length of the extended slice described by\n",
      " |      S. Out of bounds indices are clipped in a manner consistent with the\n",
      " |      handling of normal slices.\n",
      " |  \n",
      " |  ----------------------------------------------------------------------\n",
      " |  Static methods defined here:\n",
      " |  \n",
      " |  __new__(*args, **kwargs) from builtins.type\n",
      " |      Create and return a new object.  See help(type) for accurate signature.\n",
      " |  \n",
      " |  ----------------------------------------------------------------------\n",
      " |  Data descriptors defined here:\n",
      " |  \n",
      " |  start\n",
      " |  \n",
      " |  step\n",
      " |  \n",
      " |  stop\n",
      " |  \n",
      " |  ----------------------------------------------------------------------\n",
      " |  Data and other attributes defined here:\n",
      " |  \n",
      " |  __hash__ = None\n",
      "\n"
     ]
    }
   ],
   "source": [
    "# note: you can also use the slice function to access list indexes\n",
    "print(x[3:-2:2]) \n",
    "print(x[slice(3, -2, 2)])\n",
    "help(slice)"
   ]
  }
 ],
 "metadata": {
  "jupytext": {
   "formats": "ipynb,py"
  },
  "kernelspec": {
   "display_name": "Python 3",
   "language": "python",
   "name": "python3"
  },
  "language_info": {
   "codemirror_mode": {
    "name": "ipython",
    "version": 3
   },
   "file_extension": ".py",
   "mimetype": "text/x-python",
   "name": "python",
   "nbconvert_exporter": "python",
   "pygments_lexer": "ipython3",
   "version": "3.7.4"
  }
 },
 "nbformat": 4,
 "nbformat_minor": 2
}
