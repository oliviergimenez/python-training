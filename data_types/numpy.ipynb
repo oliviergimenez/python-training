{
 "cells": [
  {
   "cell_type": "markdown",
   "metadata": {},
   "source": [
    "# Arrays\n",
    "\n",
    "## Usage\n",
    "\n",
    "The Python ```list``` and ```dict``` objects are not suitable to manage multi-dimensional arrays. \n",
    "\n",
    "Instead, the [Numpy](https://numpy.org/) (Numerical Python) library should be used. It allows to:\n",
    "\n",
    "- Create multi-dimensional arrays}\n",
    "- Access array attributes (shape, number of dimensions, data types)\n",
    "- Manipulate arrays (changing shape, tiling)\n",
    "- Manipulate missing values\n",
    "- Perform optimized numerical operations (pointwise or matrix) via broadcasting (no loops)\n",
    "\n",
    "## Multi-arrays in computer memory\n",
    "\n",
    "Computer memory is inherently linear, i.e. multi-dimensional arrays are stored in memory as one-dimensional arrays. This can be done in two ways:\n",
    "\n",
    "- Row-major order: C/C++, Python\n",
    "- Column-major order: Fortran, Matlab, R, Julia\n",
    "\n",
    "<div>\n",
    "<figure>\n",
    "    <center>\n",
    "    <img src=\"figs/corder.svg\" alt=\"Dictionaries\" text-align=center width=200>\n",
    "     <figcaption text-align=center><i>Row-major order</i></figcaption>\n",
    "</figure>\n",
    "<br>\n",
    "<br>    \n",
    "<figure>\n",
    "    <center>\n",
    "    <img src=\"figs/forder.svg\" alt=\"Dictionaries\" text-align=center width=200>\n",
    "     <figcaption text-align=center><i>Column-major order</i></figcaption>\n",
    "</figure>\n",
    "</div>\n",
    "\n",
    "## Consequences for loops\n",
    "\n",
    "Imbricated loops should be consistent with the memory ordering:\n",
    "\n",
    "**Row-order (Python)**\n",
    "\n",
    "```\n",
    "import numpy as np\n",
    "x = np.empty((5, 10))\n",
    "for i in range(5):  # inner loop: 1st dim\n",
    "    for j in range(10):  # outer loop: last dim\n",
    "        print(x[i, j])\n",
    "```\n",
    "\n",
    "**Column-order (Julia)**\n",
    "\n",
    "```\n",
    "x = zeros(Int8, 5, 10)\n",
    "for j = 1:10   # inner loop: last dim\n",
    "    for i = 1:5  # outer loop: 1st dim\n",
    "        println(x[i, j])\n",
    "    end\n",
    "end\n",
    "```\n",
    "\n",
    "Sources: [Wikipedia](https://en.wikipedia.org/wiki/Row-_and_column-major_order),  [thegreenplace](https://eli.thegreenplace.net/2015/memory-layout-of-multi-dimensional-arrays/)\n",
    "\n",
    "## Array manipulation\n"
   ]
  },
  {
   "cell_type": "code",
   "execution_count": 1,
   "metadata": {},
   "outputs": [],
   "source": [
    "import numpy as np"
   ]
  },
  {
   "cell_type": "markdown",
   "metadata": {},
   "source": [
    "### Array initialisation"
   ]
  },
  {
   "cell_type": "code",
   "execution_count": 2,
   "metadata": {},
   "outputs": [
    {
     "name": "stdout",
     "output_type": "stream",
     "text": [
      "[0 1 2 3 4 5 6 7 8 9]\n"
     ]
    }
   ],
   "source": [
    "x = np.arange(0, 10, 1) # equivalent to Matlab 0:1:9\n",
    "print(x)"
   ]
  },
  {
   "cell_type": "code",
   "execution_count": 3,
   "metadata": {},
   "outputs": [
    {
     "name": "stdout",
     "output_type": "stream",
     "text": [
      "[10.   10.25 10.5  10.75 11.   11.25 11.5  11.75 12.   12.25 12.5  12.75\n",
      " 13.   13.25 13.5  13.75 14.   14.25 14.5  14.75 15.   15.25 15.5  15.75\n",
      " 16.   16.25 16.5  16.75 17.   17.25 17.5  17.75 18.   18.25 18.5  18.75\n",
      " 19.   19.25 19.5  19.75 20.  ]\n"
     ]
    }
   ],
   "source": [
    "x = np.linspace(10, 20, 41) # 10 to 20 with 41 values\n",
    "print(x)"
   ]
  },
  {
   "cell_type": "code",
   "execution_count": 4,
   "metadata": {},
   "outputs": [
    {
     "name": "stdout",
     "output_type": "stream",
     "text": [
      "[1 2 3 4 5]\n"
     ]
    }
   ],
   "source": [
    "x = np.array([1, 2, 3, 4, 5]) # initialisation from list \n",
    "print(x)"
   ]
  },
  {
   "cell_type": "code",
   "execution_count": 5,
   "metadata": {},
   "outputs": [
    {
     "name": "stdout",
     "output_type": "stream",
     "text": [
      "[[[1 1 1 1 1 1 1 1]\n",
      "  [1 1 1 1 1 1 1 1]\n",
      "  [1 1 1 1 1 1 1 1]]\n",
      "\n",
      " [[1 1 1 1 1 1 1 1]\n",
      "  [1 1 1 1 1 1 1 1]\n",
      "  [1 1 1 1 1 1 1 1]]]\n"
     ]
    }
   ],
   "source": [
    "x = np.ones((2, 3, 8), dtype=np.int) # init with 1 integers\n",
    "print(x)"
   ]
  },
  {
   "cell_type": "code",
   "execution_count": 6,
   "metadata": {},
   "outputs": [
    {
     "name": "stdout",
     "output_type": "stream",
     "text": [
      "[[[0. 0. 0. 0. 0. 0. 0. 0.]\n",
      "  [0. 0. 0. 0. 0. 0. 0. 0.]\n",
      "  [0. 0. 0. 0. 0. 0. 0. 0.]]\n",
      "\n",
      " [[0. 0. 0. 0. 0. 0. 0. 0.]\n",
      "  [0. 0. 0. 0. 0. 0. 0. 0.]\n",
      "  [0. 0. 0. 0. 0. 0. 0. 0.]]]\n"
     ]
    }
   ],
   "source": [
    "x = np.zeros((2, 3, 8)) # init with 0 floats \n",
    "print(x)"
   ]
  },
  {
   "cell_type": "code",
   "execution_count": 7,
   "metadata": {},
   "outputs": [
    {
     "name": "stdout",
     "output_type": "stream",
     "text": [
      "[[[0. 0. 0. 0. 0. 0. 0. 0.]\n",
      "  [0. 0. 0. 0. 0. 0. 0. 0.]\n",
      "  [0. 0. 0. 0. 0. 0. 0. 0.]]\n",
      "\n",
      " [[0. 0. 0. 0. 0. 0. 0. 0.]\n",
      "  [0. 0. 0. 0. 0. 0. 0. 0.]\n",
      "  [0. 0. 0. 0. 0. 0. 0. 0.]]]\n"
     ]
    }
   ],
   "source": [
    "x = np.empty((2, 3, 8), dtype=np.float) # init with random floats \n",
    "print(x)"
   ]
  },
  {
   "cell_type": "code",
   "execution_count": 8,
   "metadata": {},
   "outputs": [
    {
     "name": "stdout",
     "output_type": "stream",
     "text": [
      "[[[10.1 10.1 10.1 10.1 10.1 10.1 10.1 10.1]\n",
      "  [10.1 10.1 10.1 10.1 10.1 10.1 10.1 10.1]\n",
      "  [10.1 10.1 10.1 10.1 10.1 10.1 10.1 10.1]]\n",
      "\n",
      " [[10.1 10.1 10.1 10.1 10.1 10.1 10.1 10.1]\n",
      "  [10.1 10.1 10.1 10.1 10.1 10.1 10.1 10.1]\n",
      "  [10.1 10.1 10.1 10.1 10.1 10.1 10.1 10.1]]]\n"
     ]
    }
   ],
   "source": [
    "x = np.full((2, 3, 8), 10.10)  # fill array with 10.10\n",
    "print(x)"
   ]
  },
  {
   "cell_type": "markdown",
   "metadata": {},
   "source": [
    "### Changing data type"
   ]
  },
  {
   "cell_type": "code",
   "execution_count": 9,
   "metadata": {},
   "outputs": [
    {
     "name": "stdout",
     "output_type": "stream",
     "text": [
      "[[[10 10 10 10 10 10 10 10]\n",
      "  [10 10 10 10 10 10 10 10]\n",
      "  [10 10 10 10 10 10 10 10]]\n",
      "\n",
      " [[10 10 10 10 10 10 10 10]\n",
      "  [10 10 10 10 10 10 10 10]\n",
      "  [10 10 10 10 10 10 10 10]]]\n"
     ]
    }
   ],
   "source": [
    "x = x.astype(np.int)  # conversion from floats to int\n",
    "print(x)"
   ]
  },
  {
   "cell_type": "markdown",
   "metadata": {},
   "source": [
    "### Getting attributes"
   ]
  },
  {
   "cell_type": "code",
   "execution_count": 10,
   "metadata": {},
   "outputs": [
    {
     "name": "stdout",
     "output_type": "stream",
     "text": [
      "<class 'numpy.ndarray'>\n",
      "3\n",
      "(2, 3, 8)\n",
      "int64\n"
     ]
    }
   ],
   "source": [
    "print(type(x)) \n",
    "print(x.ndim)  # number of dims\n",
    "print(x.shape) # tuples containing the dimensions\n",
    "print(x.dtype) # type of the content"
   ]
  },
  {
   "cell_type": "markdown",
   "metadata": {},
   "source": [
    "### Indexing"
   ]
  },
  {
   "cell_type": "code",
   "execution_count": 11,
   "metadata": {},
   "outputs": [
    {
     "name": "stdout",
     "output_type": "stream",
     "text": [
      "(2, 3)\n",
      "(2, 4)\n"
     ]
    }
   ],
   "source": [
    "x = np.ones((2, 3, 8), dtype=np.float)\n",
    "\n",
    "# indexing: same indexing as for lists for any array dimensions\n",
    "print(x[:, :, 0].shape)\n",
    "print(x[:, -1, ::2].shape) # (2,3) (2,4) array subspans"
   ]
  },
  {
   "cell_type": "markdown",
   "metadata": {},
   "source": [
    "### Copy"
   ]
  },
  {
   "cell_type": "code",
   "execution_count": 12,
   "metadata": {},
   "outputs": [
    {
     "name": "stdout",
     "output_type": "stream",
     "text": [
      "[  -1    1    2    3    4    5    6    7    8 1000]\n",
      "[  -1    1    2    3    4    5    6    7    8 1000]\n",
      "4567387712 4567387712\n",
      "[   0    1    2    3    4    5    6    7    8 1000]\n",
      "[-1  1  2  3  4  5  6  7  8  9]\n",
      "4567400896 4567400736\n"
     ]
    }
   ],
   "source": [
    "# copies: arrays are mutable, take care with copy assignments\n",
    "x = np.arange(10)\n",
    "y = x\n",
    "y[0] = -1\n",
    "x[-1] = 1000\n",
    "print(x)\n",
    "print(y)\n",
    "print(id(x), id(y))\n",
    "\n",
    "x = np.arange(10)\n",
    "y = x.copy()  # deep copy of x into y \n",
    "y[0] = -1\n",
    "x[-1] = 1000\n",
    "print(x)\n",
    "print(y)\n",
    "print(id(x), id(y))"
   ]
  },
  {
   "cell_type": "markdown",
   "metadata": {},
   "source": [
    "### Reshaping"
   ]
  },
  {
   "cell_type": "code",
   "execution_count": 13,
   "metadata": {},
   "outputs": [
    {
     "name": "stdout",
     "output_type": "stream",
     "text": [
      "[[ 0.  1.  2.  3.]\n",
      " [ 4.  5.  6.  7.]\n",
      " [ 8.  9. 10. 11.]\n",
      " [12. 13. 14. 15.]\n",
      " [16. 17. 18. 19.]\n",
      " [20. 21. 22. 23.]]\n"
     ]
    }
   ],
   "source": [
    "# Reshaping\n",
    "x = np.zeros((6, 4))\n",
    "for i in range(6):\n",
    "    x[i, :] = np.arange(4) + i*4\n",
    "print(x)"
   ]
  },
  {
   "cell_type": "code",
   "execution_count": 14,
   "metadata": {},
   "outputs": [
    {
     "name": "stdout",
     "output_type": "stream",
     "text": [
      "[ 0.  1.  2.  3.  4.  5.  6.  7.  8.  9. 10. 11. 12. 13. 14. 15. 16. 17.\n",
      " 18. 19. 20. 21. 22. 23.]\n"
     ]
    }
   ],
   "source": [
    "x1dc = np.ravel(x)   # converts ND to 1D following C order\n",
    "print(x1dc)"
   ]
  },
  {
   "cell_type": "code",
   "execution_count": 15,
   "metadata": {},
   "outputs": [
    {
     "name": "stdout",
     "output_type": "stream",
     "text": [
      "True\n"
     ]
    }
   ],
   "source": [
    "# equivalent to:\n",
    "N = np.prod(x.shape)\n",
    "output = np.zeros(N)\n",
    "cpt = 0\n",
    "for i in range(x.shape[0]):  # starts with first dimensionss\n",
    "    for j in range(x.shape[1]):\n",
    "        output[cpt] = x[i, j]\n",
    "        cpt += 1\n",
    "print(np.all(output == x1dc))"
   ]
  },
  {
   "cell_type": "code",
   "execution_count": 16,
   "metadata": {},
   "outputs": [
    {
     "name": "stdout",
     "output_type": "stream",
     "text": [
      "[ 0.  4.  8. 12. 16. 20.  1.  5.  9. 13. 17. 21.  2.  6. 10. 14. 18. 22.\n",
      "  3.  7. 11. 15. 19. 23.]\n"
     ]
    }
   ],
   "source": [
    "# Order=Fortran: the order of the loops is reversed (outer dim to inner dim)\n",
    "x1df = np.ravel(x, order=\"F\")\n",
    "print(x1df)"
   ]
  },
  {
   "cell_type": "code",
   "execution_count": 17,
   "metadata": {},
   "outputs": [
    {
     "name": "stdout",
     "output_type": "stream",
     "text": [
      "True\n"
     ]
    }
   ],
   "source": [
    "# equivalent to:\n",
    "N = np.prod(x.shape)\n",
    "output = np.zeros(N)\n",
    "cpt = 0\n",
    "for j in range(4):  # starts with outer dimension!\n",
    "    for i in range(6):\n",
    "        output[cpt] = x[i, j]\n",
    "        cpt += 1\n",
    "print(np.all(output == x1df))"
   ]
  },
  {
   "cell_type": "code",
   "execution_count": 18,
   "metadata": {},
   "outputs": [
    {
     "name": "stdout",
     "output_type": "stream",
     "text": [
      "(6, 4)\n",
      "(2, 3, 4)\n"
     ]
    }
   ],
   "source": [
    "## Changing the shape of the array in C order\n",
    "xresc = np.reshape(x, (2, 3, 4)) \n",
    "print(x.shape)\n",
    "print(xresc.shape)"
   ]
  },
  {
   "cell_type": "code",
   "execution_count": 19,
   "metadata": {},
   "outputs": [
    {
     "name": "stdout",
     "output_type": "stream",
     "text": [
      "True\n"
     ]
    }
   ],
   "source": [
    "# equivalent to\n",
    "xresc_t = np.zeros((2, 3, 4))\n",
    "temp = np.ravel(x)\n",
    "cpt = 0        \n",
    "for i in range(2):\n",
    "    for j in range(3):\n",
    "        for k in range(4):\n",
    "            xresc_t[i, j, k] = temp[cpt]\n",
    "            cpt += 1\n",
    "print(np.all(xresc_t == xresc))"
   ]
  },
  {
   "cell_type": "code",
   "execution_count": 20,
   "metadata": {},
   "outputs": [
    {
     "name": "stdout",
     "output_type": "stream",
     "text": [
      "(2, 3, 4)\n"
     ]
    }
   ],
   "source": [
    "xresf = np.reshape(x, (2, 3, 4), order=\"F\") # reshape following Fortran order\n",
    "print(xresf.shape)"
   ]
  },
  {
   "cell_type": "code",
   "execution_count": 21,
   "metadata": {},
   "outputs": [
    {
     "name": "stdout",
     "output_type": "stream",
     "text": [
      "True\n"
     ]
    }
   ],
   "source": [
    "# identical to\n",
    "cpt = 0\n",
    "xresf_t = np.zeros((2, 3, 4))\n",
    "temp = np.ravel(x, order='F')\n",
    "for k in range(4):\n",
    "    for j in range(3):   # loop orders are reversed in Fortran order\n",
    "        for i in range(2):\n",
    "            xresf_t[i, j, k] = temp[cpt]\n",
    "            cpt += 1\n",
    "print(np.all(xresf_t == xresf))"
   ]
  },
  {
   "cell_type": "markdown",
   "metadata": {},
   "source": [
    "### Copy along given dimensions"
   ]
  },
  {
   "cell_type": "code",
   "execution_count": 22,
   "metadata": {},
   "outputs": [
    {
     "name": "stdout",
     "output_type": "stream",
     "text": [
      "(2, 10) [[0 1 2 3 4 5 6 7 8 9]\n",
      " [0 1 2 3 4 5 6 7 8 9]]\n",
      "(1, 20) [[0 1 2 3 4 5 6 7 8 9 0 1 2 3 4 5 6 7 8 9]]\n"
     ]
    }
   ],
   "source": [
    "# repeating an array along given dimensions\n",
    "# Carefull: the virtual dimensions (1) should be placed in the last positions!\n",
    "x = np.arange(10)\n",
    "xtile = np.tile(x, (2, 1)) # (2 ,10) equivalent to repmat\n",
    "xtile2 = np.tile(x, (1, 2)) # (1, 20)\n",
    "print(xtile.shape, xtile)\n",
    "print(xtile2.shape, xtile2)"
   ]
  },
  {
   "cell_type": "markdown",
   "metadata": {},
   "source": [
    "### Changing dimension order"
   ]
  },
  {
   "cell_type": "code",
   "execution_count": 23,
   "metadata": {},
   "outputs": [
    {
     "name": "stdout",
     "output_type": "stream",
     "text": [
      "(5, 10, 15)\n",
      "(15, 10, 5)\n",
      "(15, 5, 10)\n"
     ]
    }
   ],
   "source": [
    "# changing dimension orders\n",
    "x = np.ones((5, 10, 15))\n",
    "xt = np.transpose(x) # identical to xt = xt.T\n",
    "xt2 = np.transpose(x, (2, 0, 1)) # (15, 5, 10)\n",
    "print(x.shape)\n",
    "print(xt.shape)\n",
    "print(xt2.shape)"
   ]
  },
  {
   "cell_type": "markdown",
   "metadata": {},
   "source": [
    "### Testing conditions"
   ]
  },
  {
   "cell_type": "code",
   "execution_count": 24,
   "metadata": {},
   "outputs": [
    {
     "name": "stdout",
     "output_type": "stream",
     "text": [
      "[[[ 0  1  2  3]\n",
      "  [ 4  5  6  7]\n",
      "  [ 8  9 10 11]]\n",
      "\n",
      " [[12 13 14 15]\n",
      "  [16 17 18 19]\n",
      "  [20 21 22 23]]]\n",
      "[[[False False False  True]\n",
      "  [ True  True  True  True]\n",
      "  [ True  True  True  True]]\n",
      "\n",
      " [[ True False False False]\n",
      "  [False False False False]\n",
      "  [False False False False]]]\n"
     ]
    }
   ],
   "source": [
    "############################################### testing on array\n",
    "x = np.reshape(np.arange(24), (2, 3, 4))\n",
    "print(x)\n",
    "condition = (xresc <= 12) & (xresc >= 3)  # array of boolean (True if condition is met)\n",
    "print(condition)"
   ]
  },
  {
   "cell_type": "code",
   "execution_count": 25,
   "metadata": {},
   "outputs": [
    {
     "name": "stdout",
     "output_type": "stream",
     "text": [
      "[ 3.  4.  5.  6.  7.  8.  9. 10. 11. 12.]\n"
     ]
    }
   ],
   "source": [
    "# display values where condition is met\n",
    "print(xresc[condition])"
   ]
  },
  {
   "cell_type": "code",
   "execution_count": 26,
   "metadata": {},
   "outputs": [
    {
     "name": "stdout",
     "output_type": "stream",
     "text": [
      "(array([0, 0, 0, 0, 0, 0, 0, 0, 0, 1]), array([0, 1, 1, 1, 1, 2, 2, 2, 2, 0]), array([3, 0, 1, 2, 3, 0, 1, 2, 3, 0]))\n",
      "[0 0 0 0 0 0 0 0 0 1]\n",
      "[ 3.  4.  5.  6.  7.  8.  9. 10. 11. 12.]\n"
     ]
    }
   ],
   "source": [
    "ind = np.nonzero(condition)   # returns a tuple of the i, j, k indexes pairs that match conditions\n",
    "print(ind)\n",
    "print(ind[0])  # extracts the i indexes\n",
    "print(xresc[ind])   # extracts the values that match the condition (1D array)"
   ]
  },
  {
   "cell_type": "code",
   "execution_count": 27,
   "metadata": {},
   "outputs": [
    {
     "name": "stdout",
     "output_type": "stream",
     "text": [
      "[0 1 2 3]\n"
     ]
    }
   ],
   "source": [
    "# extract unique values\n",
    "x = np.array([0, 0, 0, 1, 2, 2, 3, 3, 3, 3])\n",
    "print(np.unique(x))"
   ]
  },
  {
   "cell_type": "markdown",
   "metadata": {},
   "source": [
    "### Concatenation"
   ]
  },
  {
   "cell_type": "code",
   "execution_count": 28,
   "metadata": {},
   "outputs": [
    {
     "name": "stdout",
     "output_type": "stream",
     "text": [
      "(2, 10, 5)\n"
     ]
    }
   ],
   "source": [
    "# concatenation\n",
    "x = np.zeros((2, 3, 5))\n",
    "y = np.ones((2, 7, 5))\n",
    "\n",
    "# concatenates x, y along their second dim. dim[0] and dim[2] must have the same values\n",
    "z = np.concatenate((x, y), axis=1)  \n",
    "print(z.shape)"
   ]
  },
  {
   "cell_type": "markdown",
   "metadata": {},
   "source": [
    "### Operations\n",
    "\n",
    "In Python, standard operations are performed pointwise (contrary to Matlab for instance). To do matrix operations, you need to call specific methods (`numpy.matmul` for instance)."
   ]
  },
  {
   "cell_type": "code",
   "execution_count": 29,
   "metadata": {},
   "outputs": [
    {
     "name": "stdout",
     "output_type": "stream",
     "text": [
      "[ 6. 14. 24. 36. 50.]\n",
      "[6.         3.5        2.66666667 2.25       2.        ]\n",
      "[6. 3. 2. 2. 2.]\n",
      "[0. 1. 2. 1. 0.]\n",
      "[1.000000e+00 1.280000e+02 6.561000e+03 2.621440e+05 9.765625e+06]\n"
     ]
    }
   ],
   "source": [
    "# maths: pointwise operations\n",
    "x = np.array([1, 2, 3, 4, 5]).astype(np.float)\n",
    "y = np.array([6, 7, 8, 9, 10]).astype(np.float)\n",
    "print(x*y)\n",
    "print(y/x)\n",
    "print(y//x)\n",
    "print(y%x)\n",
    "print(x**y)"
   ]
  },
  {
   "cell_type": "code",
   "execution_count": 30,
   "metadata": {},
   "outputs": [
    {
     "name": "stdout",
     "output_type": "stream",
     "text": [
      "[ 6.   3.5  inf -9.   2. ]\n"
     ]
    },
    {
     "name": "stderr",
     "output_type": "stream",
     "text": [
      "/Users/Nicolas/opt/anaconda3/lib/python3.7/site-packages/ipykernel_launcher.py:4: RuntimeWarning: divide by zero encountered in true_divide\n",
      "  after removing the cwd from sys.path.\n"
     ]
    }
   ],
   "source": [
    "x[2] = 0.\n",
    "x[3] = -1.\n",
    "\n",
    "z = y/x\n",
    "print(z)\n",
    "z = np.divide(y, x, where=(x!=0), out=np.full(x.shape, -999, dtype=x.dtype))  # no more warning message"
   ]
  },
  {
   "cell_type": "code",
   "execution_count": 31,
   "metadata": {},
   "outputs": [
    {
     "name": "stdout",
     "output_type": "stream",
     "text": [
      "[   6.     3.5 -999.    -9.     2. ]\n",
      "[0.      0.30103    -inf     nan 0.69897]\n",
      "[ 0.00000000e+00  3.01029996e-01 -9.99000000e+02 -9.99000000e+02\n",
      "  6.98970004e-01]\n"
     ]
    },
    {
     "name": "stderr",
     "output_type": "stream",
     "text": [
      "/Users/Nicolas/opt/anaconda3/lib/python3.7/site-packages/ipykernel_launcher.py:2: RuntimeWarning: divide by zero encountered in log10\n",
      "  \n",
      "/Users/Nicolas/opt/anaconda3/lib/python3.7/site-packages/ipykernel_launcher.py:2: RuntimeWarning: invalid value encountered in log10\n",
      "  \n"
     ]
    }
   ],
   "source": [
    "print(z)\n",
    "w = np.log10(x)\n",
    "print(w)\n",
    "w = np.log10(x, where=(x>0), out=np.full(x.shape, -999, dtype=x.dtype))\n",
    "print(w)"
   ]
  },
  {
   "cell_type": "markdown",
   "metadata": {},
   "source": [
    "### Mathematical operations (mean, etc.)"
   ]
  },
  {
   "cell_type": "code",
   "execution_count": 32,
   "metadata": {},
   "outputs": [
    {
     "name": "stdout",
     "output_type": "stream",
     "text": [
      "5.333333333333333\n"
     ]
    }
   ],
   "source": [
    "x = np.array([[1, 2, 3, 4, 5, 6, 7, 8, 9, 10],\n",
    "             [7, 1, 3, 5, 6, 7, 8, 10, 4, 6],\n",
    "             [5, 1, 0, 3, 5, 8, 12, 5, 8, 1]])\n",
    "\n",
    "out = np.mean(x) # compute mean over first dimension\n",
    "print(out)"
   ]
  },
  {
   "cell_type": "code",
   "execution_count": 33,
   "metadata": {},
   "outputs": [
    {
     "name": "stdout",
     "output_type": "stream",
     "text": [
      "[2.87228132 2.45153013 3.57211422]\n"
     ]
    }
   ],
   "source": [
    "out = np.std(x, axis=1) # compute standard deviation over second dimension\n",
    "print(out)"
   ]
  },
  {
   "cell_type": "code",
   "execution_count": 34,
   "metadata": {},
   "outputs": [
    {
     "name": "stdout",
     "output_type": "stream",
     "text": [
      "[13  4  6 12 16 21 27 23 21 17]\n"
     ]
    }
   ],
   "source": [
    "out = np.sum(x, axis=0) # compute sum over first dimension\n",
    "print(out)"
   ]
  },
  {
   "cell_type": "code",
   "execution_count": 35,
   "metadata": {},
   "outputs": [
    {
     "name": "stdout",
     "output_type": "stream",
     "text": [
      "[[ 1  2  3  4  5  6  7  8  9 10]\n",
      " [ 8  3  6  9 11 13 15 18 13 16]\n",
      " [13  4  6 12 16 21 27 23 21 17]]\n"
     ]
    }
   ],
   "source": [
    "out = np.cumsum(x, axis=0) # compute sum over first dimension\n",
    "print(out)"
   ]
  },
  {
   "cell_type": "code",
   "execution_count": 36,
   "metadata": {},
   "outputs": [
    {
     "name": "stdout",
     "output_type": "stream",
     "text": [
      "[ 35   2   0  60 150 336 672 400 288  60]\n"
     ]
    }
   ],
   "source": [
    "out = np.prod(x, axis=0) # computes the prod along the first dimension\n",
    "print(out)"
   ]
  },
  {
   "cell_type": "code",
   "execution_count": 37,
   "metadata": {},
   "outputs": [
    {
     "name": "stdout",
     "output_type": "stream",
     "text": [
      "(4,)\n"
     ]
    }
   ],
   "source": [
    "x = np.reshape(np.arange(24), (2, 3, 4))\n",
    "xmean = np.mean(x, axis=(0, 1))  # computes mean over the 0 a\n",
    "print(xmean.shape)"
   ]
  },
  {
   "cell_type": "markdown",
   "metadata": {},
   "source": [
    "## Broadcasting\n",
    "\n",
    "In order to avoid loops, it is strongly advised to use broadcasting rules (cf. [docs.scipy](https://docs.scipy.org/doc/numpy/user/basics.broadcasting.html)"
   ]
  },
  {
   "cell_type": "code",
   "execution_count": 38,
   "metadata": {},
   "outputs": [],
   "source": [
    "# broadcasting (https://docs.scipy.org/doc/numpy/user/basics.broadcasting.html)\n",
    "x = np.reshape(np.arange(24), (2, 3, 4))"
   ]
  },
  {
   "cell_type": "code",
   "execution_count": 39,
   "metadata": {},
   "outputs": [
    {
     "name": "stdout",
     "output_type": "stream",
     "text": [
      "(3, 4) (2, 3, 4)\n"
     ]
    }
   ],
   "source": [
    "xmean = np.mean(x, axis=0)  # mean over the first dimension\n",
    "print(xmean.shape, x.shape)\n",
    "anom = x - xmean    \n",
    "# works because trailing dimensions (i.e. the last dimensions) are the same"
   ]
  },
  {
   "cell_type": "code",
   "execution_count": 40,
   "metadata": {},
   "outputs": [
    {
     "name": "stdout",
     "output_type": "stream",
     "text": [
      "(2, 3) (2, 3, 4)\n"
     ]
    }
   ],
   "source": [
    "xmean = np.mean(x, axis=-1)\n",
    "print(xmean.shape, x.shape)\n",
    "# anom = x - xmean  # doen't work because trailing dimensions are not the same"
   ]
  },
  {
   "cell_type": "code",
   "execution_count": 41,
   "metadata": {},
   "outputs": [
    {
     "name": "stdout",
     "output_type": "stream",
     "text": [
      "(2, 3, 1) (2, 3, 4)\n"
     ]
    }
   ],
   "source": [
    "xmean = np.mean(x, axis=-1, keepdims=True)\n",
    "print(xmean.shape, x.shape)\n",
    "anom = x - xmean    \n",
    "# work because virtual dimensions (1) can be broadcasted"
   ]
  },
  {
   "cell_type": "code",
   "execution_count": 42,
   "metadata": {},
   "outputs": [
    {
     "name": "stdout",
     "output_type": "stream",
     "text": [
      "(1, 2, 1, 3, 1, 4)\n",
      "(5, 2, 7, 3, 10, 4)\n",
      "(5, 2, 7, 3, 10, 4)\n"
     ]
    }
   ],
   "source": [
    "# if you are lazy to remember the broadcasting rules, use the numpy.newaxis method.\n",
    "y = np.zeros((5, 2, 7, 3, 10, 4))\n",
    "xnd = x[np.newaxis, :, np.newaxis, :, np.newaxis, :]\n",
    "print(xnd.shape)\n",
    "print(y.shape)\n",
    "z = y * xnd\n",
    "print(z.shape)"
   ]
  },
  {
   "cell_type": "markdown",
   "metadata": {},
   "source": [
    "## Managing filled values\n"
   ]
  },
  {
   "cell_type": "code",
   "execution_count": 43,
   "metadata": {},
   "outputs": [
    {
     "name": "stdout",
     "output_type": "stream",
     "text": [
      "[1. 2. 3. 4. 5. 6. 7. 8. 9.]\n",
      "[nan  2.  3.  4.  5.  6.  7.  8.  9.]\n"
     ]
    }
   ],
   "source": [
    "# numpy nans\n",
    "x = np.arange(1, 10).astype(np.float)\n",
    "print(x)\n",
    "x[0] = np.nan\n",
    "print(x)"
   ]
  },
  {
   "cell_type": "code",
   "execution_count": 44,
   "metadata": {},
   "outputs": [
    {
     "name": "stdout",
     "output_type": "stream",
     "text": [
      "(array([0]),)\n"
     ]
    }
   ],
   "source": [
    "i = np.nonzero(np.isnan(x))\n",
    "print(i) \n",
    "i = np.nonzero(x != x) # Mathematical definition of NaN"
   ]
  },
  {
   "cell_type": "code",
   "execution_count": 45,
   "metadata": {},
   "outputs": [
    {
     "name": "stdout",
     "output_type": "stream",
     "text": [
      "5.5\n",
      "44.0\n",
      "2.29128784747792\n"
     ]
    }
   ],
   "source": [
    "# Use special functions to handle NaNs\n",
    "print(np.nanmean(x))\n",
    "print(np.nansum(x))\n",
    "print(np.nanstd(x))"
   ]
  },
  {
   "cell_type": "code",
   "execution_count": 46,
   "metadata": {},
   "outputs": [
    {
     "name": "stdout",
     "output_type": "stream",
     "text": [
      "[nan  2.  3.  4.  5.  6.  7.  8.  9.]\n"
     ]
    }
   ],
   "source": [
    "# warning: NaNs can only be used with Float arrays (not integer arrays)\n",
    "x = np.arange(1, 10).astype(np.double)\n",
    "x[0] = np.nan\n",
    "print(x)\n",
    "\n",
    "x = np.arange(1, 10).astype(np.int)\n",
    "#x[0] = np.nan"
   ]
  },
  {
   "cell_type": "code",
   "execution_count": 47,
   "metadata": {},
   "outputs": [
    {
     "name": "stdout",
     "output_type": "stream",
     "text": [
      "<class 'numpy.ndarray'>\n"
     ]
    }
   ],
   "source": [
    "# numpy.ma (masked arrays)\n",
    "x = np.arange(1, 10).astype(np.int)\n",
    "print(type(x))"
   ]
  },
  {
   "cell_type": "code",
   "execution_count": 48,
   "metadata": {},
   "outputs": [
    {
     "name": "stdout",
     "output_type": "stream",
     "text": [
      "<class 'numpy.ma.core.MaskedArray'>\n",
      "[-- -- -- 4 -- 6 7 -- --]\n"
     ]
    }
   ],
   "source": [
    "x = np.ma.masked_where(x==0, x) # mask data where nan\n",
    "x = np.ma.masked_equal(x, 5)    # mask x when equal to 5\n",
    "x = np.ma.masked_greater(x, 7)  # mask x when greater than 7\n",
    "x = np.ma.masked_less(x, 3)     # mask x when less than 3\n",
    "x[2] = np.ma.masked  # mask second elements\n",
    "print(type(x))\n",
    "print(x)"
   ]
  },
  {
   "cell_type": "code",
   "execution_count": 49,
   "metadata": {},
   "outputs": [
    {
     "name": "stdout",
     "output_type": "stream",
     "text": [
      "[ True  True  True False  True False False  True  True]\n",
      "[ True  True  True False  True False False  True  True]\n",
      "5.666666666666667\n",
      "17\n",
      "1.247219128924647\n",
      "[-- -- -- 4 -- 10 17 -- --]\n"
     ]
    }
   ],
   "source": [
    "print(x.mask)    # new attribute as appeared\n",
    "print(np.ma.getmask(x))  # equivalent to x.mask\n",
    "print(np.mean(x))  # no more need to do a NaN mean\n",
    "print(np.sum(x))\n",
    "print(np.std(x))\n",
    "print(np.cumsum(x)) "
   ]
  },
  {
   "cell_type": "code",
   "execution_count": 50,
   "metadata": {},
   "outputs": [
    {
     "name": "stdout",
     "output_type": "stream",
     "text": [
      "[10. 11. 12. 13. 14.]\n",
      "False\n",
      "[10.]\n"
     ]
    }
   ],
   "source": [
    "# warning for masked_arrays\n",
    "x = np.arange(10, 15).astype(np.float)\n",
    "x = np.ma.masked_where(np.isnan(x), x)\n",
    "print(x)\n",
    "print(x.mask)\n",
    "iok = np.nonzero(x.mask == False)  #  for unmasked values\n",
    "print(x[iok])  # returns only first value"
   ]
  },
  {
   "cell_type": "code",
   "execution_count": 51,
   "metadata": {},
   "outputs": [
    {
     "name": "stdout",
     "output_type": "stream",
     "text": [
      "[False False False False False]\n",
      "[10. 11. 12. 13. 14.]\n"
     ]
    }
   ],
   "source": [
    "# to get a mask array of the same size as x, use the getmaskarray method\n",
    "print(np.ma.getmaskarray(x))\n",
    "iok = np.nonzero(np.ma.getmaskarray(x) == False)  #  for unmasked values\n",
    "print(x[iok])  # returns all the values"
   ]
  },
  {
   "cell_type": "markdown",
   "metadata": {},
   "source": [
    "# Scientific Python\n",
    "\n",
    "Although the Numpy library allows to do some operations, it is rather limited.\n",
    "Other mathematical functions are provided by the [Scipy](https://www.scipy.org/) library. \n",
    "\n",
    "<div class=\"alert alert-success\">\n",
    "<i>In an ideal world, NumPy would contain nothing but the array data type and the most basic operations: indexing, sorting, reshaping, basic elementwise functions, etc. All numerical code would reside in SciPy. [...] If you are doing scientific computing with Python, you should probably install both NumPy and SciPy. Most new features belong in SciPy rather than NumPy.</i> Source: <a href=\\\"https://www.scipy.org/scipylib/faq.html#what-is-the-difference-between-numpy-and-scipy\" target=\\\"_blank\\\">Scipy FAQ</a>\n",
    "</div>\n",
    "\n",
    "## Submodules\n",
    "\n",
    "Scipy comes with numerous submodules, which are listed below (source: [scipy.org](https://www.scipy.org/)}\n",
    "\n",
    "\n",
    "| Description                               | Module\n",
    "| :----------------------------------------:|:----------------------------:\n",
    "| Special functions (mathematical physics)  | [scipy.special](https://docs.scipy.org/doc/scipy/reference/tutorial/special.html)\n",
    "| Integration                               | [scipy.integrate](https://docs.scipy.org/doc/scipy/reference/tutorial/integrate.html)\n",
    "| Optimization                              |[scipy.optimize](https://docs.scipy.org/doc/scipy/reference/tutorial/optimize.html)\n",
    "| Interpolation                             |[scipy.interpolate](https://docs.scipy.org/doc/scipy/reference/tutorial/interpolate.html)\n",
    "| Fourier Transforms                        |[scipy.fft](https://docs.scipy.org/doc/scipy/reference/tutorial/fft.html)\n",
    "| Signal Processing                         |[scipy.signal](https://docs.scipy.org/doc/scipy/reference/tutorial/signal.html)\n",
    "| Linear Algebra                            |[scipy.linalg](https://docs.scipy.org/doc/scipy/reference/tutorial/linalg.html)\n",
    "| Spatial data structures and algorithms    | [scipy.spatial](https://docs.scipy.org/doc/scipy/reference/tutorial/spatial.html)\n",
    "| Statistics | [scipy.stats](https://docs.scipy.org/doc/scipy/reference/tutorial/stats.html)\n",
    "| Multidimensional image processing         | [scipy.ndimage](https://docs.scipy.org/doc/scipy/reference/tutorial/ndimage.html)\n",
    "| File IO: Matlab, NetCDF, IDL              |  [scipy.io](https://docs.scipy.org/doc/scipy/reference/tutorial/io.html)\n",
    "\n",
    "<div class=\"alert alert-warning\">\n",
    "    <strong>Since you all are fluent in using Numpy, I leave it to you the exploration of Scipy... </strong>\n",
    "</div>"
   ]
  }
 ],
 "metadata": {
  "jupytext": {
   "formats": "ipynb,py"
  },
  "kernelspec": {
   "display_name": "Python 3",
   "language": "python",
   "name": "python3"
  },
  "language_info": {
   "codemirror_mode": {
    "name": "ipython",
    "version": 3
   },
   "file_extension": ".py",
   "mimetype": "text/x-python",
   "name": "python",
   "nbconvert_exporter": "python",
   "pygments_lexer": "ipython3",
   "version": "3.7.4"
  }
 },
 "nbformat": 4,
 "nbformat_minor": 2
}
