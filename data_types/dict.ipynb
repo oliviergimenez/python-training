{
 "cells": [
  {
   "cell_type": "markdown",
   "metadata": {},
   "source": [
    "## Dictionaries\n",
    "\n",
    "### Definition\n",
    "\n",
    "A dictionary can be viewed as an *unordered* list of elements (called *values*),  which are *not necessarily of the same type* and are accessible via a unique label, which must be an immutable object (called *keys*).\n",
    "\n",
    "<figure>\n",
    "    <center>\n",
    "    <img src=\"figs/tikz_dict.svg\" alt=\"Dictionaries\" text-align=center width=400>\n",
    "     <figcaption text-align=center><i>Dictionary</i></figcaption>\n",
    "</figure>\n",
    "\n",
    "### Usage\n",
    "\n",
    "Dictionaries are used:\n",
    "\n",
    "- To manipulate the global environment (```globals()``` dictionary)\n",
    "- To handle function arguments (```**kwargs``` arguments)\n",
    "- Class objects are associated with a dictionary (```__dict__``` attribute)\n",
    "- To manipulate some objects (```pandas.DataFrame```, ```xarray.Dataset```)\n",
    "\n",
    "### Manipulation \n",
    "\n",
    "To have more about dictionaries, visit [python.org](https://docs.python.org/3/tutorial/datastructures.html#dictionaries)\n",
    "\n",
    "#### Creating dictionaries"
   ]
  },
  {
   "cell_type": "code",
   "execution_count": 1,
   "metadata": {},
   "outputs": [
    {
     "name": "stdout",
     "output_type": "stream",
     "text": [
      "{'dataint': 10, 'datstr': 'This is a dictionnary'}\n",
      "2\n"
     ]
    }
   ],
   "source": [
    "# Creating dictionary\n",
    "data = {} # empty dictionary\n",
    "data = {'dataint':10 , 'datstr':'This is a dictionnary'} # not empty one\n",
    "print(data)\n",
    "print(len(data))  # number of elements"
   ]
  },
  {
   "cell_type": "code",
   "execution_count": 2,
   "metadata": {},
   "outputs": [
    {
     "name": "stdout",
     "output_type": "stream",
     "text": [
      "{'key0': 'new val', 'key1': 'new val', 3: 'new val'}\n"
     ]
    }
   ],
   "source": [
    "# create a dictionary providing a list of keys and a value for all keys\n",
    "data = dict.fromkeys(['key0', 'key1', 3], 'new val')\n",
    "print(data)"
   ]
  },
  {
   "cell_type": "markdown",
   "metadata": {},
   "source": [
    "#### Accessing elements"
   ]
  },
  {
   "cell_type": "code",
   "execution_count": 3,
   "metadata": {},
   "outputs": [
    {
     "name": "stdout",
     "output_type": "stream",
     "text": [
      "This is a dictionnary\n",
      "None\n",
      "0\n",
      "This is a dictionnary\n"
     ]
    }
   ],
   "source": [
    "# Getting and replacing dict. elements\n",
    "data = {'dataint':10 , 'datstr':'This is a dictionnary'}\n",
    "print(data.get('datstr')) # retrieve a value from the key\n",
    "print(data.get('toto'))  # returns None if toto is not a key\n",
    "print(data.get('toto', 0))  # returns 0 if toto is not a key\n",
    "print(data['datstr'])\n",
    "#data['toto'] # fails!"
   ]
  },
  {
   "cell_type": "code",
   "execution_count": 4,
   "metadata": {},
   "outputs": [
    {
     "name": "stdout",
     "output_type": "stream",
     "text": [
      "{'dataint': 10, 'datstr': 'new string', 'datlist': [0, 1, 2]}\n"
     ]
    }
   ],
   "source": [
    "data['datlist'] = [0, 1, 2] # add a new element to the dict (key=datlist)\n",
    "data['datstr'] = 'new string'  # overwrites a given value (key=datstr)\n",
    "print(data)"
   ]
  },
  {
   "cell_type": "code",
   "execution_count": 5,
   "metadata": {},
   "outputs": [
    {
     "name": "stdout",
     "output_type": "stream",
     "text": [
      "new string\n",
      "final string\n"
     ]
    }
   ],
   "source": [
    "# datstr is found, value not changed\n",
    "# returns the value of the new key\n",
    "added = data.setdefault('datstr', 'final string')\n",
    "print(added)  # no change in the datstr element\n",
    "\n",
    "# datstrbis not found, value is set \n",
    "added = data.setdefault('datstrbis', 'final string')\n",
    "print(added)"
   ]
  },
  {
   "cell_type": "code",
   "execution_count": 6,
   "metadata": {},
   "outputs": [
    {
     "name": "stdout",
     "output_type": "stream",
     "text": [
      "True\n",
      "False\n"
     ]
    }
   ],
   "source": [
    "# check whether dict contains a given key\n",
    "iskey = ('datstr' in data)\n",
    "istoto = ('toto' in data)\n",
    "print(iskey)\n",
    "print(istoto)"
   ]
  },
  {
   "cell_type": "code",
   "execution_count": 7,
   "metadata": {},
   "outputs": [
    {
     "name": "stdout",
     "output_type": "stream",
     "text": [
      "['dataint', 'datstr']\n",
      "[10, 'This is a dictionnary']\n",
      "[('dataint', 10), ('datstr', 'This is a dictionnary')]\n"
     ]
    }
   ],
   "source": [
    "# Getting keys and values\n",
    "data = {'dataint':10 , 'datstr':'This is a dictionnary'}\n",
    "keys = list(data.keys())  # list the keys\n",
    "vals = list(data.values())  # list the values\n",
    "items = list(data.items())\n",
    "print(keys)\n",
    "print(vals)\n",
    "print(items)\n",
    "# Note: in Python3, these methods do not return list anymore but iterators\n",
    "# however, they can be converted to list easily using type conversion"
   ]
  },
  {
   "cell_type": "code",
   "execution_count": 8,
   "metadata": {},
   "outputs": [
    {
     "name": "stdout",
     "output_type": "stream",
     "text": [
      "('dataint', 10)\n",
      "('datstr', 'This is a dictionnary')\n",
      "key, val =  dataint 10\n",
      "key, val =  datstr This is a dictionnary\n",
      "key, val =  dataint 10\n",
      "key, val =  datstr This is a dictionnary\n"
     ]
    }
   ],
   "source": [
    "# loop over key,value pairs\n",
    "for it in data.items():\n",
    "    print(it)\n",
    "    \n",
    "# loop over key,value pairs\n",
    "for k, v in data.items():\n",
    "    print('key, val = ', k, v)\n",
    "    \n",
    "# same as\n",
    "for k, v in zip(data.keys(), data.values()):\n",
    "    print('key, val = ', k, v)"
   ]
  },
  {
   "cell_type": "markdown",
   "metadata": {},
   "source": [
    "#### Removing elements"
   ]
  },
  {
   "cell_type": "code",
   "execution_count": 9,
   "metadata": {},
   "outputs": [
    {
     "name": "stdout",
     "output_type": "stream",
     "text": [
      "{}\n"
     ]
    }
   ],
   "source": [
    "# removing all the content of a dict.\n",
    "data.clear()  # Removes all the elements\n",
    "len(data)\n",
    "print(data)"
   ]
  },
  {
   "cell_type": "code",
   "execution_count": 10,
   "metadata": {},
   "outputs": [
    {
     "name": "stdout",
     "output_type": "stream",
     "text": [
      "This is a dictionnary\n",
      "{'dataint': 10}\n"
     ]
    }
   ],
   "source": [
    "# Removing an element from key and return the removed values\n",
    "data = {'dataint':10 , 'datstr':'This is a dictionnary'}\n",
    "removed = data.pop(\"datstr\")\n",
    "print(removed)\n",
    "print(data)"
   ]
  },
  {
   "cell_type": "markdown",
   "metadata": {},
   "source": [
    "#### Concatenation"
   ]
  },
  {
   "cell_type": "code",
   "execution_count": 11,
   "metadata": {},
   "outputs": [
    {
     "name": "stdout",
     "output_type": "stream",
     "text": [
      "{'dataint': 14, 'datstr': 'This is a dictionnary', ' datflt': 0.5}\n",
      "{'dataint': 14, ' datflt': 0.5}\n"
     ]
    }
   ],
   "source": [
    "# Concatenate dictionnaries\n",
    "data = {'dataint':10 , 'datstr':'This is a dictionnary'} # not empty one\n",
    "data2 = {'dataint':14,' datflt':0.5}\n",
    "# add the elements of dict data2 into dict data\n",
    "# note that the dataint of data has been replaced by the dataint of data2\n",
    "data.update(data2) \n",
    "print(data)\n",
    "print(data2)"
   ]
  },
  {
   "cell_type": "code",
   "execution_count": 12,
   "metadata": {},
   "outputs": [],
   "source": [
    "data.update(toto='toto var')  # equivalent to data.update({'toto':'toto_var'})"
   ]
  },
  {
   "cell_type": "code",
   "execution_count": 13,
   "metadata": {},
   "outputs": [
    {
     "name": "stdout",
     "output_type": "stream",
     "text": [
      "14\n"
     ]
    }
   ],
   "source": [
    "# Putting all the content of the data dict into the globals() dictionary\n",
    "# which defines all the global variables\n",
    "# In the variable explorer, you should see all the elements\n",
    "globals().update(data)\n",
    "print(dataint)"
   ]
  }
 ],
 "metadata": {
  "celltoolbar": "Aucun(e)",
  "jupytext": {
   "formats": "ipynb,py"
  },
  "kernelspec": {
   "display_name": "Python 3",
   "language": "python",
   "name": "python3"
  },
  "language_info": {
   "codemirror_mode": {
    "name": "ipython",
    "version": 3
   },
   "file_extension": ".py",
   "mimetype": "text/x-python",
   "name": "python",
   "nbconvert_exporter": "python",
   "pygments_lexer": "ipython3",
   "version": "3.7.4"
  }
 },
 "nbformat": 4,
 "nbformat_minor": 2
}
