{
 "cells": [
  {
   "cell_type": "markdown",
   "metadata": {},
   "source": [
    "## Numerics\n",
    "\n",
    "### Comparisons\n",
    "\n",
    "The following expressions can be used to compare numerical values (source: [python3](https://docs.python.org/3/library/stdtypes.html))\n",
    "\n",
    "| Python expression | Meaning    \n",
    "|:-----------------:|:-----------------------:\n",
    "| ```not(a)```      | not a\n",
    "| ```a == b```      | a equal b \n",
    "| ```a != b```      | a not equal b\n",
    "| ```a \\| b```      | a and b\n",
    "| ```a \\| b```      | a or b\n",
    "| ```a >= b```      | a greater equal b\n",
    "| ```a > b```       | a greater b\n",
    "| ```a <= b```      | a less equal b\n",
    "| ```a < b```       | a less b\n",
    "\n",
    "### Operations\n",
    "\n",
    "Binary operations are listed below (source: [python3](https://docs.python.org/3/library/stdtypes.html))\n",
    "\n",
    "|Python expression               | Meaning\n",
    "|:------------------------------:|:-------------------------------------:\n",
    "| ```x + y```                    | sum of x and y\n",
    "| ```x - y```                    | difference of x and y\n",
    "| ```x * y```                    | product of x and y\n",
    "| ```x / y```                    |quotient of x and y\n",
    "| ```x // y```                   |floored quotient of x and y\n",
    "| ```x % y```                    |remainder of x / y\n",
    "| ```-x```                       | x negated\n",
    "| ```abs(x)```                   | absolute value or magnitude of x\n",
    "| ```complex(re, im)```          | a complex $math re + i\\times im$\n",
    "| ```c.conjugate()```            | conjugate of the complex number c\n",
    "| ```divmod(x, y)```             | the pair ```(x // y, x % y)```\n",
    "| ```pow(x, y)```                | x to the power y\n",
    "| ```x ** y```                   | x to the power y"
   ]
  },
  {
   "cell_type": "code",
   "execution_count": 2,
   "metadata": {},
   "outputs": [],
   "source": [
    "x = 13\n",
    "y = 5"
   ]
  },
  {
   "cell_type": "code",
   "execution_count": 5,
   "metadata": {},
   "outputs": [
    {
     "name": "stdout",
     "output_type": "stream",
     "text": [
      "2.6\n",
      "2\n",
      "3\n",
      "(2, 3)\n"
     ]
    }
   ],
   "source": [
    "print(x / y)  # division\n",
    "print(x // y) # floored quotient\n",
    "print(x % y)  # rest\n",
    "print(divmod(x, y))"
   ]
  },
  {
   "cell_type": "code",
   "execution_count": 6,
   "metadata": {},
   "outputs": [
    {
     "name": "stdout",
     "output_type": "stream",
     "text": [
      "371293\n",
      "371293\n"
     ]
    }
   ],
   "source": [
    "print(pow(x, y))\n",
    "print(x**y)"
   ]
  },
  {
   "cell_type": "code",
   "execution_count": 7,
   "metadata": {},
   "outputs": [
    {
     "name": "stdout",
     "output_type": "stream",
     "text": [
      "(13+5j)\n",
      "13.0\n",
      "5.0\n",
      "(13-5j)\n",
      "(194+0j)\n",
      "13.92838827718412\n"
     ]
    }
   ],
   "source": [
    "c = complex(x, y)\n",
    "print(c)\n",
    "print(c.real)\n",
    "print(c.imag)\n",
    "\n",
    "cc = c.conjugate()\n",
    "print(cc)\n",
    "\n",
    "print(c * cc)\n",
    "print(abs(c))"
   ]
  },
  {
   "cell_type": "code",
   "execution_count": 8,
   "metadata": {},
   "outputs": [
    {
     "name": "stdout",
     "output_type": "stream",
     "text": [
      "11\n",
      "12\n",
      "24\n",
      "8.0\n",
      "6.0\n"
     ]
    }
   ],
   "source": [
    "x = 11\n",
    "print(x)\n",
    "\n",
    "# x = x + 1\n",
    "x += 1\n",
    "print(x)\n",
    "\n",
    "x *= 2 \n",
    "# x = x * 2\n",
    "print(x)\n",
    "\n",
    "# x = x / 3\n",
    "x /= 3\n",
    "print(x)\n",
    "\n",
    "# x = x - 2\n",
    "x -= 2\n",
    "print(x)"
   ]
  }
 ],
 "metadata": {
  "jupytext": {
   "formats": "ipynb,py"
  },
  "kernelspec": {
   "display_name": "Python 3",
   "language": "python",
   "name": "python3"
  },
  "language_info": {
   "codemirror_mode": {
    "name": "ipython",
    "version": 3
   },
   "file_extension": ".py",
   "mimetype": "text/x-python",
   "name": "python",
   "nbconvert_exporter": "python",
   "pygments_lexer": "ipython3",
   "version": "3.7.4"
  }
 },
 "nbformat": 4,
 "nbformat_minor": 2
}
