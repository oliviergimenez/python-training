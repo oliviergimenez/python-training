{
 "cells": [
  {
   "cell_type": "markdown",
   "metadata": {},
   "source": [
    "# Introduction\n",
    "\n",
    "## What is Python?\n",
    "\n",
    "Python is an interpreted, object-oriented, high-level programming language with dynamic semantics. Source: [python.org](https://www.python.org/doc/essays/blurb/)\n",
    "\n",
    "- *interpreted*: no compilation (contrary to Java, C/C++, Fortran)\n",
    "- *object-oriented*: based on the concept of objects, associated with attributes (object's data) and methods (object's procedures).\n",
    "- *high-level*: close to human languages (contrary to C, which is a middle-level language)\n",
    "- *dynamic semantics*: no variable declaration, possibility to mix-up data types.\n",
    "\n",
    "## Why use Python?\n",
    "\n",
    "The main advantages of using Python are:\n",
    "\n",
    "- Presence of third-party modules ([Python Package Index](https://pypi.org/))\n",
    "- Extensive support libraries (NumPy for numerical calculations, Pandas for data analytics)\n",
    "- Open source and community development\n",
    "- Easy to learn\n",
    "- User-friendly data structures (lists, dictionaries, etc.)\n",
    "- Portable and Interactive\n",
    "- Portable across Operating Systems\n",
    "\n",
    "Source: [geeksforgeeks.org](https://www.geeksforgeeks.org/python-language-advantages-applications/).\n",
    "\n",
    "## Applications\n",
    "\n",
    "The main applications are:\n",
    "\n",
    "- Web Development: creation of web frameworks ([Django](https://www.djangoproject.com/), [Flask](https://www.palletsprojects.com/p/flask/))\n",
    "- Machine learning ([scikit-learn](https://scikit-learn.org/), [TensorFlow](https://www.tensorflow.org/))\n",
    "- Data analysis ([scipy](https://www.scipy.org/), [pandas](https://pandas.pydata.org/), [xarray](http://xarray.pydata.org/en/stable/))\n",
    "- Data visualization ([matplotlib](https://matplotlib.org/), [basemap](https://matplotlib.org/basemap/), [PyNgl](https://www.pyngl.ucar.edu/), [cartopy](https://scitools.org.uk/cartopy/docs/latest/))\n",
    "- Documentation ([Sphinx](https://www.sphinx-doc.org/en/master/), [Read the Docs](https://readthedocs.org/))\n",
    "- Data download ([cdsapi](https://pypi.org/project/cdsapi/) for *Climate Data Store*, [motuclient](https://pypi.org/project/motuclient/) for *Copernicus Marine Products*)\n",
    "\n",
    "Source: [freecodecamp.org](https://www.freecodecamp.org/news/what-can-you-do-with-python-the-3-main-applications-518db9a68a78/)\n",
    "\n",
    "## They use Python\n",
    "\n",
    "Famous Python users:\n",
    "\n",
    "- Dropbox: desktop client\n",
    "- Instragram: website\n",
    "- Netflix, Spotify: analytics for suggestions\n",
    "- Facebook: 21% of the codebase\n",
    "- Google: *Python where we can, C++ where we must*\n",
    "\n",
    "Source: [netguru.com](https://www.netguru.com/blog/8-top-companies-that-use-python-for-their-apps-examples-of-top-notch-python-applications)"
   ]
  }
 ],
 "metadata": {
  "jupytext": {
   "formats": "ipynb,py"
  },
  "kernelspec": {
   "display_name": "Python 3",
   "language": "python",
   "name": "python3"
  },
  "language_info": {
   "codemirror_mode": {
    "name": "ipython",
    "version": 3
   },
   "file_extension": ".py",
   "mimetype": "text/x-python",
   "name": "python",
   "nbconvert_exporter": "python",
   "pygments_lexer": "ipython3",
   "version": "3.7.6"
  }
 },
 "nbformat": 4,
 "nbformat_minor": 2
}
