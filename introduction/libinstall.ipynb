{
 "cells": [
  {
   "cell_type": "markdown",
   "metadata": {},
   "source": [
    "# Python libraries\n",
    "\n",
    "## Install libraries\n",
    "\n",
    "To install libraries, you can either use [conda](https://docs.conda.io/en/latest/), [pip](https://pip.pypa.io/en/stable/) or install from source files.\n",
    "\n",
    "*Pip* only installs Python packages. The user needs to manually install the required external tools (compilers, C libraries, etc.).\n",
    "\n",
    "*Conda* installs everything that is needed (compiler, libraries) and has the ability to create isolated environments, which may contains different versions of the packages.\n",
    "\n",
    "<div class=\"alert alert-success\">\n",
    "  <strong>Pip vs. Conda!</strong> For further details about the difference between Pip and Conda, visit    \n",
    "    <a href=\"https://www.anaconda.com/understanding-conda-and-pip/\" target=\"_blank\">anaconda.com</a>\n",
    "</div>\n",
    "\n",
    "### Install from Pip\n",
    "\n",
    "All the packages available on Pip are listed on the [pip](https://pypi.org/) webpage. To install any of them, type on a terminal:\n",
    "\n",
    "```\n",
    "pip install package_name\n",
    "```\n",
    "\n",
    "For install, to manipulate NetCDF files, \n",
    "\n",
    "```\n",
    "pip install netCDF4 xarray\n",
    "```\n",
    "\n",
    "### Install from Conda\n",
    "\n",
    "All the packages available on the Conda default channel are listed on the [Conda repository](https://repo.anaconda.com/pkgs/). To install any of them, type on a terminal:\n",
    "\n",
    "```\n",
    "conda install package_name\n",
    "```\n",
    "\n",
    "For install, to manipulate NetCDF files, \n",
    "\n",
    "```\n",
    "conda install netCDF4 xarray\n",
    "```\n",
    "\n",
    "### Conda virtual environments\n",
    "\n",
    "To create virtual environments (for instance for spatial representation), type in a terminal:\n",
    "\n",
    "```\n",
    "# PyNGL env. for Python 3\n",
    "conda create --name pyngl3 --channel conda-forge pynio pyngl\n",
    "\n",
    "# PyNGL env. for Python 2\n",
    "conda create --name pyngl2 --channel conda-forge pynio pyngl python=2.7\n",
    "```\n",
    "\n",
    "In this case, the packages are downloaded from a community channel, the [conda-forge](https://conda-forge.org/).\n",
    "\n",
    "To change environment, type\n",
    "\n",
    "```\n",
    "source activate pyngl2  # switch env. to pygnl2\n",
    "source activate pyngl3  # switch env. to pygnl3\n",
    "source activate base    # go back to default env.\n",
    "```\n",
    "\n",
    "To list all the environments, type: \n",
    "\n",
    "```\n",
    "conda env list\n",
    "```\n",
    "\n",
    "<div class=\"alert alert-info\">\n",
    "    <strong>Default environment!</strong> The default environment is named <i>base</i>\n",
    "</div>\n",
    "\n",
    "\n",
    "### Install from source\n",
    "\n",
    "To install a package from sources, unzip the archive and type:\n",
    "    \n",
    "```\n",
    "python setup.py install --home=/my/directory/\n",
    "```\n",
    "\n",
    "<div class=\"alert alert-info\">\n",
    "    <strong>Note. </strong>At the beginning, you are unlikely to do that.\n",
    "</div>\n",
    "\n",
    "## Loading  libraries\n",
    "   \n",
    "Libraries are loaded by using the `import` statement. It can be done as follows:"
   ]
  },
  {
   "cell_type": "code",
   "execution_count": 1,
   "metadata": {},
   "outputs": [],
   "source": [
    "# loading the numpy library\n",
    "import numpy\n",
    "\n",
    "# loading matplotlib with the shortname mp\n",
    "import matplotlib as mp"
   ]
  },
  {
   "cell_type": "markdown",
   "metadata": {},
   "source": [
    "In this case, the objects of the imported modules are stored into defined **namespaces**, which prevent from conflicts among object names. "
   ]
  },
  {
   "cell_type": "markdown",
   "metadata": {},
   "source": [
    "### Calling functions\n",
    "\n",
    "Using namespaces, a module's function is called as follows:\n",
    "\n",
    "`module.function(arg1, arg2, arg3, ...)`\n",
    "\n",
    "For instance:"
   ]
  },
  {
   "cell_type": "code",
   "execution_count": 2,
   "metadata": {},
   "outputs": [
    {
     "name": "stdout",
     "output_type": "stream",
     "text": [
      "[1.]\n",
      "False\n"
     ]
    }
   ],
   "source": [
    "print(numpy.mean([0, 1, 2], keepdims=True)) # 2 arguments provided\n",
    "print(mp.is_interactive())  # no argument"
   ]
  },
  {
   "cell_type": "markdown",
   "metadata": {},
   "source": [
    "To get some help about a function, use the `help` function:"
   ]
  },
  {
   "cell_type": "code",
   "execution_count": 3,
   "metadata": {},
   "outputs": [
    {
     "name": "stdout",
     "output_type": "stream",
     "text": [
      "Help on function is_interactive in module matplotlib:\n",
      "\n",
      "is_interactive()\n",
      "    Return true if plot mode is interactive\n",
      "\n"
     ]
    }
   ],
   "source": [
    "help(mp.is_interactive)"
   ]
  },
  {
   "cell_type": "markdown",
   "metadata": {},
   "source": [
    "### Bad practice!\n",
    "\n",
    "Libraries can also be loaded as follows:"
   ]
  },
  {
   "cell_type": "code",
   "execution_count": 4,
   "metadata": {},
   "outputs": [
    {
     "name": "stdout",
     "output_type": "stream",
     "text": [
      "<class 'pandas.core.frame.DataFrame'>\n",
      "<scipy.stats._discrete_distns.randint_gen object at 0x11c782310>\n"
     ]
    }
   ],
   "source": [
    "# loading the DataFrame function of the pandas lib.\n",
    "from pandas import DataFrame\n",
    "print(DataFrame) # no pandas.DataFrame in this case\n",
    "\n",
    "# loading all the objects of the stats module\n",
    "from scipy.stats import *\n",
    "print(randint)"
   ]
  },
  {
   "cell_type": "markdown",
   "metadata": {},
   "source": [
    "In this case, part or all the content of the modules is stored in the current namespace.\n",
    "\n",
    "<div class=\"alert alert-danger\">\n",
    "    <strong>Warning!</strong> I strongly recommend to <strong>never</strong> use this way of importing modules, since they may be in conflict with other objects.\n",
    "</div>"
   ]
  },
  {
   "cell_type": "code",
   "execution_count": 5,
   "metadata": {},
   "outputs": [
    {
     "name": "stdout",
     "output_type": "stream",
     "text": [
      "[4. 6.]\n"
     ]
    }
   ],
   "source": [
    "import numpy as np\n",
    "x = np.array([1e4, 1e6])\n",
    "\n",
    "from numpy import *\n",
    "print(log10(x))\n",
    "from math import *\n",
    "# print(log10(x))  will fail"
   ]
  },
  {
   "cell_type": "markdown",
   "metadata": {},
   "source": [
    "Here, the `numpy.log10` method has been overwritten by the `math.log10` one.\n",
    "\n",
    "### Loading your libraries\n",
    "\n",
    "If you want to load your own function, stored in a `mylib.py` file, you first need to add your library directory to the `PYTHONPATH`. At the beginning of your script, add:\n",
    "\n",
    "```\n",
    "import sys\n",
    "sys.path.append('/add/other/directory/')\n",
    "import mylib\n",
    "```\n",
    "\n",
    "**When the PYTHONPATH is modified this way, it is only valid for the current Python script.**\n",
    "\n",
    "In order to change the Python default paths, you need to create a `PYTHONPATH` environment variable. With Mac Os X/Linux, edit your `.bashrc` or `.cshrc` file and add:\n",
    "\n",
    "```\n",
    "# bashrc\n",
    "export PYTHONPATH=${PYTHONPATH}:/add/other/directory\n",
    "# cshrc\n",
    "setenv PYTHONPATH /add/other/directory:${PYTHONPATH}\n",
    "```\n",
    "\n",
    "In Windows, see for instance [oracle.com](https://docs.oracle.com/en/database/oracle/r-enterprise/1.5.1/oread/creating-and-modifying-environment-variables-on-windows.html#GUID-DD6F9982-60D5-48F6-8270-A27EC53807D0)\n",
    "\n"
   ]
  }
 ],
 "metadata": {
  "jupytext": {
   "formats": "ipynb,py"
  },
  "kernelspec": {
   "display_name": "Python 3",
   "language": "python",
   "name": "python3"
  },
  "language_info": {
   "codemirror_mode": {
    "name": "ipython",
    "version": 3
   },
   "file_extension": ".py",
   "mimetype": "text/x-python",
   "name": "python",
   "nbconvert_exporter": "python",
   "pygments_lexer": "ipython3",
   "version": "3.7.4"
  }
 },
 "nbformat": 4,
 "nbformat_minor": 2
}
